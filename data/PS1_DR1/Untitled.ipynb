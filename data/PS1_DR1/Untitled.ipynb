{
 "cells": [
  {
   "cell_type": "code",
   "execution_count": 1,
   "metadata": {},
   "outputs": [],
   "source": [
    "import pandas"
   ]
  },
  {
   "cell_type": "code",
   "execution_count": 5,
   "metadata": {},
   "outputs": [],
   "source": [
    "df = pandas.read_csv('LIST_OF_VHzQs.csv')"
   ]
  },
  {
   "cell_type": "code",
   "execution_count": 16,
   "metadata": {},
   "outputs": [
    {
     "data": {
      "text/plain": [
       "0        0.340113\n",
       "1        0.664117\n",
       "2        1.468083\n",
       "3        2.107390\n",
       "4        2.214292\n",
       "5        2.378702\n",
       "6        3.136999\n",
       "7        4.311167\n",
       "8        4.393613\n",
       "9        4.814080\n",
       "10       5.131124\n",
       "11       5.877792\n",
       "12       6.124042\n",
       "13       6.361833\n",
       "14       7.027333\n",
       "15       7.857750\n",
       "16       8.297500\n",
       "17       8.559792\n",
       "18       9.357329\n",
       "19       9.650416\n",
       "20       9.735508\n",
       "21      11.389867\n",
       "22      12.527771\n",
       "23      13.589250\n",
       "24      13.762125\n",
       "25      14.233499\n",
       "26      15.054263\n",
       "27      15.710999\n",
       "28      17.027500\n",
       "29      17.124833\n",
       "          ...    \n",
       "433    339.781500\n",
       "434    339.947792\n",
       "435    340.204170\n",
       "436    340.656450\n",
       "437    341.351125\n",
       "438    342.508375\n",
       "439    343.022667\n",
       "440    343.908500\n",
       "441    346.095708\n",
       "442    346.897290\n",
       "443    347.662059\n",
       "444    348.068500\n",
       "445    348.944040\n",
       "446    349.409375\n",
       "447    349.500000\n",
       "448    349.511660\n",
       "449    351.309351\n",
       "450    351.402667\n",
       "451    352.284500\n",
       "452    352.310250\n",
       "453    352.413750\n",
       "454    352.536292\n",
       "455    353.729375\n",
       "456    356.139583\n",
       "457    357.138900\n",
       "458    357.828991\n",
       "459    357.851292\n",
       "460    359.135215\n",
       "461    359.214910\n",
       "462    359.600167\n",
       "Name: ra, Length: 463, dtype: float64"
      ]
     },
     "execution_count": 16,
     "metadata": {},
     "output_type": "execute_result"
    }
   ],
   "source": [
    "df['ra']"
   ]
  },
  {
   "cell_type": "code",
   "execution_count": 20,
   "metadata": {},
   "outputs": [],
   "source": [
    "header = [\"ra\", \"dec\"]"
   ]
  },
  {
   "cell_type": "code",
   "execution_count": 22,
   "metadata": {},
   "outputs": [],
   "source": [
    "df.to_csv('temp.csv', columns=header, index=False)"
   ]
  },
  {
   "cell_type": "code",
   "execution_count": null,
   "metadata": {},
   "outputs": [],
   "source": []
  }
 ],
 "metadata": {
  "kernelspec": {
   "display_name": "Python 3",
   "language": "python",
   "name": "python3"
  },
  "language_info": {
   "codemirror_mode": {
    "name": "ipython",
    "version": 3
   },
   "file_extension": ".py",
   "mimetype": "text/x-python",
   "name": "python",
   "nbconvert_exporter": "python",
   "pygments_lexer": "ipython3",
   "version": "3.6.4"
  }
 },
 "nbformat": 4,
 "nbformat_minor": 2
}
