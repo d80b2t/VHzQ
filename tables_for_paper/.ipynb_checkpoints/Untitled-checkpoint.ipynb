{
 "cells": [
  {
   "cell_type": "code",
   "execution_count": 1,
   "metadata": {},
   "outputs": [
    {
     "data": {
      "text/plain": [
       "'\\n\\nA simple little bit of code to convert the \\n[W/V]SA_wWISE.dat files into nicely formatted .tex tables. \\n\\nv0.01    Thu May  9 12:57:29 BST 2019\\n'"
      ]
     },
     "execution_count": 1,
     "metadata": {},
     "output_type": "execute_result"
    }
   ],
   "source": [
    "'''\n",
    "\n",
    "A simple little bit of code to convert the \n",
    "[W/V]SA_wWISE.dat files into nicely formatted .tex tables. \n",
    "\n",
    "v0.01    Thu May  9 12:57:29 BST 2019\n",
    "'''"
   ]
  },
  {
   "cell_type": "code",
   "execution_count": 2,
   "metadata": {},
   "outputs": [],
   "source": [
    "import numpy as np\n",
    "import pandas as pd\n",
    "\n",
    "from astropy.io    import fits\n",
    "from astropy.io    import ascii\n",
    "from astropy.table import Table"
   ]
  },
  {
   "cell_type": "code",
   "execution_count": 3,
   "metadata": {},
   "outputs": [],
   "source": [
    "##\n",
    "##  V H z Q    data\n",
    "##\n",
    "path     = '/cos_pc19a_npr/programs/quasars/highest_z/tables_for_paper/'\n",
    "filename = 'WSA_wWISE.dat'\n",
    "table    = path+filename\n",
    "\n",
    "VHzQ_list = ascii.read(table)"
   ]
  },
  {
   "cell_type": "code",
   "execution_count": 5,
   "metadata": {},
   "outputs": [],
   "source": [
    "#VHzQ_list"
   ]
  },
  {
   "cell_type": "code",
   "execution_count": null,
   "metadata": {},
   "outputs": [],
   "source": []
  }
 ],
 "metadata": {
  "kernelspec": {
   "display_name": "Python 3",
   "language": "python",
   "name": "python3"
  },
  "language_info": {
   "codemirror_mode": {
    "name": "ipython",
    "version": 3
   },
   "file_extension": ".py",
   "mimetype": "text/x-python",
   "name": "python",
   "nbconvert_exporter": "python",
   "pygments_lexer": "ipython3",
   "version": "3.6.4"
  }
 },
 "nbformat": 4,
 "nbformat_minor": 2
}
