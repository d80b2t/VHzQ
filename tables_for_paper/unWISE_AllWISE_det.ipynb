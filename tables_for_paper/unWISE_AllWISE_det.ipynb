{
 "cells": [
  {
   "cell_type": "code",
   "execution_count": 3,
   "metadata": {},
   "outputs": [
    {
     "data": {
      "text/plain": [
       "'\\nunWISE both    matched ::  304 \\nunWISE just W1 matched ::  58\\nunWISE just W2 matched ::  4\\nunWISE matched in W1   ::  362\\nunWISE matched in W2   ::  308\\nunWISE neither matched ::  97\\n\\nTotal matched   =  463 \\n'"
      ]
     },
     "execution_count": 3,
     "metadata": {},
     "output_type": "execute_result"
    }
   ],
   "source": [
    "'''\n",
    "unWISE both    matched ::  304 \n",
    "unWISE just W1 matched ::  58\n",
    "unWISE just W2 matched ::  4\n",
    "unWISE matched in W1   ::  362\n",
    "unWISE matched in W2   ::  308\n",
    "unWISE neither matched ::  97\n",
    "\n",
    "Total matched   =  463 \n",
    "'''"
   ]
  },
  {
   "cell_type": "code",
   "execution_count": 4,
   "metadata": {},
   "outputs": [],
   "source": [
    "import numpy as np\n",
    "\n",
    "from astropy.io    import fits\n",
    "from astropy.io    import ascii\n",
    "from astropy.table import Table"
   ]
  },
  {
   "cell_type": "code",
   "execution_count": 5,
   "metadata": {},
   "outputs": [],
   "source": [
    "path     = '/cos_pc19a_npr/programs/quasars/highest_z/data/AllWISE/'\n",
    "filename = 'VHzQs463_UNvALL_WISE_temp.dat'\n",
    "VHzQs    = ascii.read(path+filename)"
   ]
  },
  {
   "cell_type": "code",
   "execution_count": 6,
   "metadata": {},
   "outputs": [
    {
     "data": {
      "text/html": [
       "<i>Table length=463</i>\n",
       "<table id=\"table4734665952\" class=\"table-striped table-bordered table-condensed\">\n",
       "<thead><tr><th>RA</th><th>Dec</th><th>redshift</th><th>separ</th><th>unW1mag</th><th>unW1magerr</th><th>unW1snr</th><th>w1mpro</th><th>w1sigmpro</th><th>w1snr</th><th>unW2mag</th><th>unW2magerr</th><th>unW2snr</th><th>w2mpro</th><th>w2sigmpro</th><th>w2snr</th></tr></thead>\n",
       "<thead><tr><th>float64</th><th>float64</th><th>float64</th><th>float64</th><th>float64</th><th>float64</th><th>float64</th><th>float64</th><th>float64</th><th>float64</th><th>float64</th><th>float64</th><th>float64</th><th>float64</th><th>float64</th><th>float64</th></tr></thead>\n",
       "<tr><td>0.3401135</td><td>26.8358814</td><td>5.75</td><td>0.225</td><td>16.2799</td><td>0.0257</td><td>41.7265</td><td>16.373</td><td>0.07</td><td>16.5</td><td>15.5194</td><td>0.0499</td><td>21.251</td><td>15.266</td><td>0.11</td><td>10.2</td></tr>\n",
       "<tr><td>0.6641173</td><td>25.8430442</td><td>5.82</td><td>0.154</td><td>16.25</td><td>0.0261</td><td>41.0239</td><td>16.162</td><td>0.06</td><td>19.0</td><td>15.4177</td><td>0.0469</td><td>22.6804</td><td>15.542</td><td>0.13</td><td>8.5</td></tr>\n",
       "<tr><td>1.4680833</td><td>-0.1154999</td><td>5.85</td><td>1.145</td><td>17.4927</td><td>0.0791</td><td>13.2325</td><td>17.299</td><td>0.16</td><td>6.8</td><td>16.7022</td><td>0.1534</td><td>6.5915</td><td>17.043</td><td>0.0</td><td>0.2</td></tr>\n",
       "<tr><td>2.10739</td><td>-6.43456</td><td>5.93</td><td>0.086</td><td>16.802</td><td>0.0445</td><td>23.8931</td><td>16.809</td><td>0.11</td><td>10.1</td><td>15.962</td><td>0.0784</td><td>13.3491</td><td>15.684</td><td>0.14</td><td>7.7</td></tr>\n",
       "<tr><td>2.2142917</td><td>36.2704138</td><td>5.17</td><td>0.183</td><td>16.0176</td><td>0.0208</td><td>51.7021</td><td>16.045</td><td>0.05</td><td>20.7</td><td>15.4339</td><td>0.0444</td><td>23.9368</td><td>15.373</td><td>0.09</td><td>11.8</td></tr>\n",
       "<tr><td>2.3787018</td><td>32.8702618</td><td>6.1</td><td>-9.99</td><td>17.9509</td><td>0.1056</td><td>9.7915</td><td>-9.99</td><td>-9.99</td><td>-9.9</td><td>-99.999</td><td>-9.99</td><td>-99.999</td><td>-9.99</td><td>-9.99</td><td>-9.9</td></tr>\n",
       "<tr><td>3.136999</td><td>36.5378055</td><td>5.44</td><td>0.428</td><td>15.8214</td><td>0.0174</td><td>62.0132</td><td>15.764</td><td>0.04</td><td>25.1</td><td>15.2306</td><td>0.0363</td><td>29.4372</td><td>15.134</td><td>0.07</td><td>14.8</td></tr>\n",
       "<tr><td>4.3111666</td><td>-10.0153972</td><td>5.01</td><td>0.126</td><td>15.9757</td><td>0.0217</td><td>49.599</td><td>15.936</td><td>0.06</td><td>19.7</td><td>15.3142</td><td>0.0449</td><td>23.6724</td><td>15.167</td><td>0.09</td><td>11.5</td></tr>\n",
       "<tr><td>4.3936135</td><td>17.0863045</td><td>5.8</td><td>-9.99</td><td>17.8337</td><td>0.1032</td><td>10.0252</td><td>-9.99</td><td>-9.99</td><td>-9.9</td><td>16.6956</td><td>0.1451</td><td>6.9949</td><td>-9.99</td><td>-9.99</td><td>-9.9</td></tr>\n",
       "<tr><td>4.81408</td><td>-24.29916</td><td>5.68</td><td>0.248</td><td>16.3205</td><td>0.0284</td><td>37.7921</td><td>16.281</td><td>0.07</td><td>15.8</td><td>15.6784</td><td>0.0608</td><td>17.3672</td><td>15.569</td><td>0.12</td><td>9.4</td></tr>\n",
       "<tr><td>...</td><td>...</td><td>...</td><td>...</td><td>...</td><td>...</td><td>...</td><td>...</td><td>...</td><td>...</td><td>...</td><td>...</td><td>...</td><td>...</td><td>...</td><td>...</td></tr>\n",
       "<tr><td>352.41375</td><td>30.0641055</td><td>5.24</td><td>0.245</td><td>16.1504</td><td>0.0217</td><td>49.4129</td><td>16.209</td><td>0.06</td><td>18.4</td><td>15.5171</td><td>0.0454</td><td>23.3968</td><td>15.425</td><td>0.1</td><td>10.8</td></tr>\n",
       "<tr><td>352.5362917</td><td>9.9621389</td><td>5.3</td><td>1.376</td><td>16.1972</td><td>0.0249</td><td>43.1977</td><td>15.923</td><td>0.06</td><td>18.5</td><td>15.1405</td><td>0.0374</td><td>28.5324</td><td>15.145</td><td>0.11</td><td>9.8</td></tr>\n",
       "<tr><td>353.7293749</td><td>-0.1728055</td><td>5.11</td><td>-9.99</td><td>18.0026</td><td>0.1247</td><td>8.2194</td><td>-9.99</td><td>-9.99</td><td>-9.9</td><td>-99.999</td><td>-9.99</td><td>-99.999</td><td>-9.99</td><td>-9.99</td><td>-9.9</td></tr>\n",
       "<tr><td>356.1395833</td><td>16.8879111</td><td>5.0</td><td>0.129</td><td>15.2594</td><td>0.0115</td><td>93.5241</td><td>15.224</td><td>0.04</td><td>26.4</td><td>14.5738</td><td>0.0221</td><td>48.586</td><td>14.559</td><td>0.06</td><td>18.8</td></tr>\n",
       "<tr><td>357.1389</td><td>-30.902844</td><td>6.9</td><td>0.06</td><td>17.6947</td><td>0.0905</td><td>11.5056</td><td>17.673</td><td>0.17</td><td>6.3</td><td>-99.999</td><td>-9.99</td><td>-99.999</td><td>16.732</td><td>0.0</td><td>1.8</td></tr>\n",
       "<tr><td>357.8289911</td><td>6.4019219</td><td>5.81</td><td>-9.99</td><td>-99.999</td><td>-9.99</td><td>-99.999</td><td>-9.99</td><td>-9.99</td><td>-9.9</td><td>-99.999</td><td>-9.99</td><td>-99.999</td><td>-9.99</td><td>-9.99</td><td>-9.9</td></tr>\n",
       "<tr><td>357.8512917</td><td>-4.9853611</td><td>5.25</td><td>0.634</td><td>17.1013</td><td>0.0557</td><td>19.0051</td><td>17.206</td><td>0.16</td><td>6.9</td><td>16.0934</td><td>0.0898</td><td>11.5977</td><td>16.14</td><td>0.24</td><td>4.5</td></tr>\n",
       "<tr><td>359.1352149</td><td>-6.3831264</td><td>6.15</td><td>0.292</td><td>16.4896</td><td>0.0323</td><td>33.1173</td><td>16.557</td><td>0.1</td><td>10.9</td><td>15.6656</td><td>0.0607</td><td>17.385</td><td>15.702</td><td>0.2</td><td>5.6</td></tr>\n",
       "<tr><td>359.21491</td><td>0.3925833</td><td>6.0</td><td>-9.99</td><td>-99.999</td><td>-9.99</td><td>-99.999</td><td>-9.99</td><td>-9.99</td><td>-9.9</td><td>-99.999</td><td>-9.99</td><td>-99.999</td><td>-9.99</td><td>-9.99</td><td>-9.9</td></tr>\n",
       "<tr><td>359.6001667</td><td>6.5770555</td><td>5.32</td><td>1.456</td><td>16.3287</td><td>0.0296</td><td>36.1965</td><td>16.009</td><td>0.06</td><td>18.9</td><td>15.3755</td><td>0.0469</td><td>22.6356</td><td>15.249</td><td>0.1</td><td>11.5</td></tr>\n",
       "</table>"
      ],
      "text/plain": [
       "<Table length=463>\n",
       "     RA         Dec     redshift  separ  ... unW2snr  w2mpro w2sigmpro  w2snr \n",
       "  float64     float64   float64  float64 ... float64 float64  float64  float64\n",
       "----------- ----------- -------- ------- ... ------- ------- --------- -------\n",
       "  0.3401135  26.8358814     5.75   0.225 ...  21.251  15.266      0.11    10.2\n",
       "  0.6641173  25.8430442     5.82   0.154 ... 22.6804  15.542      0.13     8.5\n",
       "  1.4680833  -0.1154999     5.85   1.145 ...  6.5915  17.043       0.0     0.2\n",
       "    2.10739    -6.43456     5.93   0.086 ... 13.3491  15.684      0.14     7.7\n",
       "  2.2142917  36.2704138     5.17   0.183 ... 23.9368  15.373      0.09    11.8\n",
       "  2.3787018  32.8702618      6.1   -9.99 ... -99.999   -9.99     -9.99    -9.9\n",
       "   3.136999  36.5378055     5.44   0.428 ... 29.4372  15.134      0.07    14.8\n",
       "  4.3111666 -10.0153972     5.01   0.126 ... 23.6724  15.167      0.09    11.5\n",
       "  4.3936135  17.0863045      5.8   -9.99 ...  6.9949   -9.99     -9.99    -9.9\n",
       "    4.81408   -24.29916     5.68   0.248 ... 17.3672  15.569      0.12     9.4\n",
       "        ...         ...      ...     ... ...     ...     ...       ...     ...\n",
       "  352.41375  30.0641055     5.24   0.245 ... 23.3968  15.425       0.1    10.8\n",
       "352.5362917   9.9621389      5.3   1.376 ... 28.5324  15.145      0.11     9.8\n",
       "353.7293749  -0.1728055     5.11   -9.99 ... -99.999   -9.99     -9.99    -9.9\n",
       "356.1395833  16.8879111      5.0   0.129 ...  48.586  14.559      0.06    18.8\n",
       "   357.1389  -30.902844      6.9    0.06 ... -99.999  16.732       0.0     1.8\n",
       "357.8289911   6.4019219     5.81   -9.99 ... -99.999   -9.99     -9.99    -9.9\n",
       "357.8512917  -4.9853611     5.25   0.634 ... 11.5977   16.14      0.24     4.5\n",
       "359.1352149  -6.3831264     6.15   0.292 ...  17.385  15.702       0.2     5.6\n",
       "  359.21491   0.3925833      6.0   -9.99 ... -99.999   -9.99     -9.99    -9.9\n",
       "359.6001667   6.5770555     5.32   1.456 ... 22.6356  15.249       0.1    11.5"
      ]
     },
     "execution_count": 6,
     "metadata": {},
     "output_type": "execute_result"
    }
   ],
   "source": [
    "VHzQs"
   ]
  },
  {
   "cell_type": "code",
   "execution_count": 7,
   "metadata": {},
   "outputs": [
    {
     "data": {
      "text/plain": [
       "463"
      ]
     },
     "execution_count": 7,
     "metadata": {},
     "output_type": "execute_result"
    }
   ],
   "source": [
    "len(VHzQs)"
   ]
  },
  {
   "cell_type": "code",
   "execution_count": 8,
   "metadata": {},
   "outputs": [],
   "source": [
    "unW1           = VHzQs[np.where( VHzQs['unW1mag']>-1)]\n",
    "unW1_just      = VHzQs[np.where((VHzQs['unW1mag']>-1) & (VHzQs['unW2mag']<-1))]\n",
    "unW1_not_AllW1 = VHzQs[np.where((VHzQs['unW1mag']>-1) & (VHzQs['w1mpro']<-1))]\n",
    "\n",
    "unW2           = VHzQs[np.where( VHzQs['unW2mag']>-1)]\n",
    "unW2_just      = VHzQs[np.where((VHzQs['unW2mag']>-1) & (VHzQs['unW1mag']<-1))]\n",
    "unW2_not_AllW2 = VHzQs[np.where((VHzQs['unW2mag']>-1) & (VHzQs['w2mpro']<-1))]\n",
    "\n"
   ]
  },
  {
   "cell_type": "code",
   "execution_count": 9,
   "metadata": {},
   "outputs": [],
   "source": [
    "## AllW3 = VHzQs[np.where( VHzQs['w3mpro']>-1)]\n"
   ]
  },
  {
   "cell_type": "code",
   "execution_count": 10,
   "metadata": {},
   "outputs": [
    {
     "name": "stdout",
     "output_type": "stream",
     "text": [
      "\\hline \\hline\n",
      "Detection band & No. of objects\n",
      "\\hline\n",
      "unWISE W1                 &  362  \\\\ \n",
      "unWISE W1     !unWISE W2  &  58   \\\\ \n",
      "unWISE W1 and !AllWISE W1 &  80   \\\\ \n",
      "\n",
      "unWISE W2                 &  308  \\\\ \n",
      "unWISE W2     !unWISE W1  &  4    \\\\ \n",
      "unWISE W2 and !AllWISE W1 &  38   \\\\ \n",
      "\\hline \\hline\n"
     ]
    }
   ],
   "source": [
    "print('\\hline \\hline')\n",
    "print('Detection band & No. of objects')\n",
    "print('\\hline')\n",
    "print('unWISE W1                 & ', len(unW1),             ' \\\\\\ ')\n",
    "print('unWISE W1     !unWISE W2  & ', len(unW1_just),        '  \\\\\\ ')\n",
    "print('unWISE W1 and !AllWISE W1 & ', len(unW1_not_AllW1),   '  \\\\\\ ')\n",
    "print()\n",
    "print('unWISE W2                 & ', len(unW2),             ' \\\\\\ ')\n",
    "print('unWISE W2     !unWISE W1  & ', len(unW2_just),        '   \\\\\\ ')\n",
    "print('unWISE W2 and !AllWISE W1 & ', len(unW2_not_AllW2),   '  \\\\\\ ')\n",
    "\n",
    "print('\\hline \\hline')"
   ]
  },
  {
   "cell_type": "code",
   "execution_count": 11,
   "metadata": {},
   "outputs": [],
   "source": [
    "## By redshift\n",
    "redshift_array = np.array([5.00, 5.70, 6.00, 6.19, 6.50, 6.78, 7.00, 7.50])\n"
   ]
  },
  {
   "cell_type": "code",
   "execution_count": 43,
   "metadata": {},
   "outputs": [],
   "source": [
    "## How many of the VHzQs are above a given redshift \n",
    "N_zgt5pnt00 = np.count_nonzero(VHzQs['redshift'] >= redshift_array[0]) \n",
    "N_zgt5pnt70 = np.count_nonzero(VHzQs['redshift'] >= redshift_array[1]) \n",
    "N_zgt6pnt00 = np.count_nonzero(VHzQs['redshift'] >= redshift_array[2]) \n",
    "N_zgt6pnt19 = np.count_nonzero(VHzQs['redshift'] >= redshift_array[3]) \n",
    "N_zgt6pnt50 = np.count_nonzero(VHzQs['redshift'] >= redshift_array[4]) \n",
    "N_zgt6pnt78 = np.count_nonzero(VHzQs['redshift'] >= redshift_array[5]) \n",
    "N_zgt7pnt00 = np.count_nonzero(VHzQs['redshift'] >= redshift_array[6]) \n",
    "N_zgt7pnt50 = np.count_nonzero(VHzQs['redshift'] >= redshift_array[7]) "
   ]
  },
  {
   "cell_type": "code",
   "execution_count": 44,
   "metadata": {},
   "outputs": [],
   "source": [
    "## How many of the VHzQs, with unWISE W1 detections are above a given redshift \n",
    "N_zgt5pnt00_unW1 = np.count_nonzero((VHzQs['redshift'] >= redshift_array[0]) & (VHzQs['unW1mag']>-1))\n",
    "N_zgt5pnt70_unW1 = np.count_nonzero((VHzQs['redshift'] >= redshift_array[1]) & (VHzQs['unW1mag']>-1))\n",
    "N_zgt6pnt00_unW1 = np.count_nonzero((VHzQs['redshift'] >= redshift_array[2]) & (VHzQs['unW1mag']>-1))\n",
    "N_zgt6pnt19_unW1 = np.count_nonzero((VHzQs['redshift'] >= redshift_array[3]) & (VHzQs['unW1mag']>-1))\n",
    "N_zgt6pnt50_unW1 = np.count_nonzero((VHzQs['redshift'] >= redshift_array[4]) & (VHzQs['unW1mag']>-1))\n",
    "N_zgt6pnt78_unW1 = np.count_nonzero((VHzQs['redshift'] >= redshift_array[5]) & (VHzQs['unW1mag']>-1))\n",
    "N_zgt7pnt00_unW1 = np.count_nonzero((VHzQs['redshift'] >= redshift_array[6]) & (VHzQs['unW1mag']>-1))\n",
    "N_zgt7pnt50_unW1 = np.count_nonzero((VHzQs['redshift'] >= redshift_array[7]) & (VHzQs['unW1mag']>-1))\n"
   ]
  },
  {
   "cell_type": "code",
   "execution_count": 53,
   "metadata": {},
   "outputs": [
    {
     "name": "stdout",
     "output_type": "stream",
     "text": [
      "$z \\geq $ \n",
      " 5.00     362 ( 78.19\\%)\n",
      " 5.70     185 ( 69.29\\%)\n",
      " 6.00     108 ( 63.53\\%)\n",
      " 6.19      62 ( 72.09\\%)\n",
      " 6.50      34 ( 85.00\\%)\n",
      " 6.78      12 ( 85.71\\%)\n",
      " 7.00       4 (100.00\\%)\n",
      " 7.50       1 (100.00\\%)\n"
     ]
    }
   ],
   "source": [
    "print('$z \\geq $ ')\n",
    "print(' 5.00   {:5d} ({:6.2f}\\%)'.format(N_zgt5pnt00_unW1,    ((N_zgt5pnt00_unW1/N_zgt5pnt00)*100)))\n",
    "print(' 5.70   {:5d} ({:6.2f}\\%)'.format(N_zgt5pnt70_unW1,    ((N_zgt5pnt70_unW1/N_zgt5pnt70)*100)))\n",
    "print(' 6.00   {:5d} ({:6.2f}\\%)'.format(N_zgt6pnt00_unW1,    ((N_zgt6pnt00_unW1/N_zgt6pnt00)*100)))\n",
    "print(' 6.19   {:5d} ({:6.2f}\\%)'.format(N_zgt6pnt19_unW1,    ((N_zgt6pnt19_unW1/N_zgt6pnt19)*100)))\n",
    "print(' 6.50   {:5d} ({:6.2f}\\%)'.format(N_zgt6pnt50_unW1,    ((N_zgt6pnt50_unW1/N_zgt6pnt50)*100)))\n",
    "print(' 6.78   {:5d} ({:6.2f}\\%)'.format(N_zgt6pnt78_unW1,    ((N_zgt6pnt78_unW1/N_zgt6pnt78)*100)))\n",
    "print(' 7.00   {:5d} ({:6.2f}\\%)'.format(N_zgt7pnt00_unW1,    ((N_zgt7pnt00_unW1/N_zgt7pnt00)*100)))\n",
    "print(' 7.50   {:5d} ({:6.2f}\\%)'.format(N_zgt7pnt50_unW1,    ((N_zgt7pnt50_unW1/N_zgt7pnt50)*100)))"
   ]
  },
  {
   "cell_type": "code",
   "execution_count": 45,
   "metadata": {},
   "outputs": [],
   "source": [
    "## How many of the VHzQs, with unWISE W2 detections are above a given redshift \n",
    "N_zgt5pnt00_unW2 = np.count_nonzero((VHzQs['redshift'] >= redshift_array[0]) & (VHzQs['unW2mag']>-1))\n",
    "N_zgt5pnt70_unW2 = np.count_nonzero((VHzQs['redshift'] >= redshift_array[1]) & (VHzQs['unW2mag']>-1))\n",
    "N_zgt6pnt00_unW2 = np.count_nonzero((VHzQs['redshift'] >= redshift_array[2]) & (VHzQs['unW2mag']>-1))\n",
    "N_zgt6pnt19_unW2 = np.count_nonzero((VHzQs['redshift'] >= redshift_array[3]) & (VHzQs['unW2mag']>-1))\n",
    "N_zgt6pnt50_unW2 = np.count_nonzero((VHzQs['redshift'] >= redshift_array[4]) & (VHzQs['unW2mag']>-1))\n",
    "N_zgt6pnt78_unW2 = np.count_nonzero((VHzQs['redshift'] >= redshift_array[5]) & (VHzQs['unW2mag']>-1))\n",
    "N_zgt7pnt00_unW2 = np.count_nonzero((VHzQs['redshift'] >= redshift_array[6]) & (VHzQs['unW2mag']>-1))\n",
    "N_zgt7pnt50_unW2 = np.count_nonzero((VHzQs['redshift'] >= redshift_array[7]) & (VHzQs['unW2mag']>-1))\n"
   ]
  },
  {
   "cell_type": "code",
   "execution_count": 55,
   "metadata": {},
   "outputs": [
    {
     "name": "stdout",
     "output_type": "stream",
     "text": [
      "$z \\geq $ \n",
      " 5.00     308 ( 66.52\\%)\n",
      " 5.70     150 ( 56.18\\%)\n",
      " 6.00      90 ( 52.94\\%)\n",
      " 6.19      46 ( 53.49\\%)\n",
      " 6.50      26 ( 65.00\\%)\n",
      " 6.78       9 ( 64.29\\%)\n",
      " 7.00       4 (100.00\\%)\n",
      " 7.50       1 (100.00\\%)\n"
     ]
    }
   ],
   "source": [
    "print('$z \\geq $ ')\n",
    "print(' 5.00   {:5d} ({:6.2f}\\%)'.format(N_zgt5pnt00_unW2,    ((N_zgt5pnt00_unW2/N_zgt5pnt00)*100)))\n",
    "print(' 5.70   {:5d} ({:6.2f}\\%)'.format(N_zgt5pnt70_unW2,    ((N_zgt5pnt70_unW2/N_zgt5pnt70)*100)))\n",
    "print(' 6.00   {:5d} ({:6.2f}\\%)'.format(N_zgt6pnt00_unW2,    ((N_zgt6pnt00_unW2/N_zgt6pnt00)*100)))\n",
    "print(' 6.19   {:5d} ({:6.2f}\\%)'.format(N_zgt6pnt19_unW2,    ((N_zgt6pnt19_unW2/N_zgt6pnt19)*100)))\n",
    "print(' 6.50   {:5d} ({:6.2f}\\%)'.format(N_zgt6pnt50_unW2,    ((N_zgt6pnt50_unW2/N_zgt6pnt50)*100)))\n",
    "print(' 6.78   {:5d} ({:6.2f}\\%)'.format(N_zgt6pnt78_unW2,    ((N_zgt6pnt78_unW2/N_zgt6pnt78)*100)))\n",
    "print(' 7.00   {:5d} ({:6.2f}\\%)'.format(N_zgt7pnt00_unW2,    ((N_zgt7pnt00_unW2/N_zgt7pnt00)*100)))\n",
    "print(' 7.50   {:5d} ({:6.2f}\\%)'.format(N_zgt7pnt50_unW2,    ((N_zgt7pnt50_unW2/N_zgt7pnt50)*100)))"
   ]
  },
  {
   "cell_type": "code",
   "execution_count": null,
   "metadata": {},
   "outputs": [],
   "source": []
  }
 ],
 "metadata": {
  "kernelspec": {
   "display_name": "Python 3",
   "language": "python",
   "name": "python3"
  },
  "language_info": {
   "codemirror_mode": {
    "name": "ipython",
    "version": 3
   },
   "file_extension": ".py",
   "mimetype": "text/x-python",
   "name": "python",
   "nbconvert_exporter": "python",
   "pygments_lexer": "ipython3",
   "version": "3.6.4"
  }
 },
 "nbformat": 4,
 "nbformat_minor": 2
}
