{
 "cells": [
  {
   "cell_type": "code",
   "execution_count": 1,
   "metadata": {},
   "outputs": [
    {
     "data": {
      "text/plain": [
       "' A simple little bit of code to figure out which survey the VHzQs came from.'"
      ]
     },
     "execution_count": 1,
     "metadata": {},
     "output_type": "execute_result"
    }
   ],
   "source": [
    "''' A simple little bit of code to figure out which survey the VHzQs came from.'''"
   ]
  },
  {
   "cell_type": "code",
   "execution_count": 2,
   "metadata": {},
   "outputs": [],
   "source": [
    "import numpy as np\n",
    "import pandas as pd\n",
    "\n",
    "from astropy.io    import fits\n",
    "from astropy.io    import ascii\n",
    "from astropy.table import Table"
   ]
  },
  {
   "cell_type": "code",
   "execution_count": 3,
   "metadata": {},
   "outputs": [],
   "source": [
    "##  V H z Q    data\n",
    "path     = '../data/'\n",
    "filename = 'LIST_OF_VHzQs.dat'\n",
    "table    = path+filename\n",
    "\n",
    "VHzQ_list = ascii.read(table)"
   ]
  },
  {
   "cell_type": "code",
   "execution_count": 4,
   "metadata": {},
   "outputs": [
    {
     "name": "stdout",
     "output_type": "stream",
     "text": [
      "type(VHzQ_list) <class 'astropy.table.table.Table'>\n",
      "len(VHzQ_list) 463\n"
     ]
    }
   ],
   "source": [
    "print('type(VHzQ_list)', type(VHzQ_list))\n",
    "print('len(VHzQ_list)',   len(VHzQ_list))"
   ]
  },
  {
   "cell_type": "code",
   "execution_count": 5,
   "metadata": {},
   "outputs": [
    {
     "data": {
      "text/plain": [
       "['na', 'desig', 'ra_hms', 'dec_dms', 'ra', 'dec', 'redshift']"
      ]
     },
     "execution_count": 5,
     "metadata": {},
     "output_type": "execute_result"
    }
   ],
   "source": [
    "VHzQ_list.colnames"
   ]
  },
  {
   "cell_type": "code",
   "execution_count": 6,
   "metadata": {},
   "outputs": [
    {
     "data": {
      "text/plain": [
       "21"
      ]
     },
     "execution_count": 6,
     "metadata": {},
     "output_type": "execute_result"
    }
   ],
   "source": [
    "## Column 'na' has the original survey designations\n",
    "len(np.unique(VHzQ_list['na']))"
   ]
  },
  {
   "cell_type": "code",
   "execution_count": 7,
   "metadata": {},
   "outputs": [
    {
     "data": {
      "text/html": [
       "&lt;Column name=&apos;na&apos; dtype=&apos;str7&apos; length=21&gt;\n",
       "<table>\n",
       "<tr><td>ATLAS</td></tr>\n",
       "<tr><td>CFHQS</td></tr>\n",
       "<tr><td>DELS</td></tr>\n",
       "<tr><td>ELAIS</td></tr>\n",
       "<tr><td>FIRST</td></tr>\n",
       "<tr><td>HSC</td></tr>\n",
       "<tr><td>IMS</td></tr>\n",
       "<tr><td>MMT</td></tr>\n",
       "<tr><td>NDWFS</td></tr>\n",
       "<tr><td>PSO</td></tr>\n",
       "<tr><td>RD</td></tr>\n",
       "<tr><td>SDSS</td></tr>\n",
       "<tr><td>SDUV</td></tr>\n",
       "<tr><td>SDWISE</td></tr>\n",
       "<tr><td>SHELLQs</td></tr>\n",
       "<tr><td>UHS</td></tr>\n",
       "<tr><td>ULAS</td></tr>\n",
       "<tr><td>VDES</td></tr>\n",
       "<tr><td>VHS</td></tr>\n",
       "<tr><td>VIK</td></tr>\n",
       "<tr><td>VIMOS</td></tr>\n",
       "</table>"
      ],
      "text/plain": [
       "<Column name='na' dtype='str7' length=21>\n",
       "  ATLAS\n",
       "  CFHQS\n",
       "   DELS\n",
       "  ELAIS\n",
       "  FIRST\n",
       "    HSC\n",
       "    IMS\n",
       "    MMT\n",
       "  NDWFS\n",
       "    PSO\n",
       "     RD\n",
       "   SDSS\n",
       "   SDUV\n",
       " SDWISE\n",
       "SHELLQs\n",
       "    UHS\n",
       "   ULAS\n",
       "   VDES\n",
       "    VHS\n",
       "    VIK\n",
       "  VIMOS"
      ]
     },
     "execution_count": 7,
     "metadata": {},
     "output_type": "execute_result"
    }
   ],
   "source": [
    "np.unique(VHzQ_list['na'])"
   ]
  },
  {
   "cell_type": "code",
   "execution_count": 8,
   "metadata": {},
   "outputs": [
    {
     "data": {
      "text/plain": [
       "astropy.table.column.Column"
      ]
     },
     "execution_count": 8,
     "metadata": {},
     "output_type": "execute_result"
    }
   ],
   "source": [
    "type(np.unique(VHzQ_list['na']))"
   ]
  },
  {
   "cell_type": "code",
   "execution_count": 9,
   "metadata": {},
   "outputs": [],
   "source": [
    "#VHzQ_list.group_by('na').size().sort_values(ascending=False)\n",
    "survey, counts = np.unique(VHzQ_list[\"na\"], return_counts=True)"
   ]
  },
  {
   "cell_type": "code",
   "execution_count": 11,
   "metadata": {},
   "outputs": [
    {
     "name": "stdout",
     "output_type": "stream",
     "text": [
      "ATLAS   &    4\n",
      "CFHQS   &   20\n",
      "DELS    &   16\n",
      "ELAIS   &    1\n",
      "FIRST   &    1\n",
      "HSC     &    8\n",
      "IMS     &    5\n",
      "MMT     &   12\n",
      "NDWFS   &    1\n",
      "PSO     &   83\n",
      "RD      &    1\n",
      "SDSS    &  170\n",
      "SDUV    &   20\n",
      "SDWISE  &   27\n",
      "SHELLQs &   55\n",
      "UHS     &    1\n",
      "ULAS    &   10\n",
      "VDES    &   17\n",
      "VHS     &    1\n",
      "VIK     &    9\n",
      "VIMOS   &    1\n"
     ]
    }
   ],
   "source": [
    "## Loop through the number of entries the variable 'survey' has\n",
    "for x in range(len(survey)):\n",
    "    print('{:7} & {:4d}'.format(survey[x], counts[x]))"
   ]
  },
  {
   "cell_type": "code",
   "execution_count": null,
   "metadata": {},
   "outputs": [],
   "source": []
  }
 ],
 "metadata": {
  "kernelspec": {
   "display_name": "Python 3",
   "language": "python",
   "name": "python3"
  },
  "language_info": {
   "codemirror_mode": {
    "name": "ipython",
    "version": 3
   },
   "file_extension": ".py",
   "mimetype": "text/x-python",
   "name": "python",
   "nbconvert_exporter": "python",
   "pygments_lexer": "ipython3",
   "version": "3.6.4"
  }
 },
 "nbformat": 4,
 "nbformat_minor": 2
}
