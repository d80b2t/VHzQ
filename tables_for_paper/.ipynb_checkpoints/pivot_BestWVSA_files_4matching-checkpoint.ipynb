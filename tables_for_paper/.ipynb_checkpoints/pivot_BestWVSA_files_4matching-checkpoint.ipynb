{
 "cells": [
  {
   "cell_type": "code",
   "execution_count": null,
   "metadata": {},
   "outputs": [],
   "source": [
    "import pandas as pd"
   ]
  },
  {
   "cell_type": "code",
   "execution_count": null,
   "metadata": {},
   "outputs": [],
   "source": [
    "path = \"/cos_pc19a_npr/programs/quasars/highest_z/data/WSA_VSA/\""
   ]
  },
  {
   "cell_type": "code",
   "execution_count": null,
   "metadata": {},
   "outputs": [],
   "source": [
    "VSA_filein = 'BestVSA_magnitudes_byRA.csv'\n",
    "WSA_filein = 'BestWSA_magnitudes_byRA.csv'"
   ]
  },
  {
   "cell_type": "code",
   "execution_count": null,
   "metadata": {},
   "outputs": [],
   "source": [
    "VSA = pd.read_csv(path+VSA_filein)\n",
    "WSA = pd.read_csv(path+WSA_filein)"
   ]
  },
  {
   "cell_type": "code",
   "execution_count": null,
   "metadata": {},
   "outputs": [],
   "source": [
    "## ARGH!!! CAN'T GET df.pivot to work for multiple columns...\n",
    "#dff_VSA = VSA.pivot('qsoName','filterID','aperMag3AverAB').fillna(-999.99999)\n",
    "#df_VSA = VSA.pivot('qsoName','filterID',values=['aperMag3AverAB', 'aperMag3Err']).fillna(-999.99999)\n",
    "#df_WSA = WSA.pivot(index=['qsoName','ra'] , columns='filterID',values=['aperMag3AverAB', 'aperMag3Err']).fillna(-999.99999)"
   ]
  },
  {
   "cell_type": "code",
   "execution_count": null,
   "metadata": {},
   "outputs": [],
   "source": [
    "## But I don't know how to add the aperMag3Err column with df.set_index...\n",
    "#df_VSA = VSA.set_index(['qsoName','ra','dec','filterID'])['aperMag3AverAB'].unstack(fill_value=-999.99999)\n",
    "df_WSA = WSA.set_index(['qsoName','ra','dec','filterID'])['aperMag3AverAB'].unstack(fill_value=-999.99999)"
   ]
  },
  {
   "cell_type": "code",
   "execution_count": null,
   "metadata": {},
   "outputs": [],
   "source": [
    "#df_VSA.to_csv('BestVSA_filterMags_1lineperobject_temp.csv',float_format='%g')\n",
    "df_WSA.to_csv('BestWSA_filterMags_1lineperobject_temp.csv', float_format='%14.7f')\n"
   ]
  },
  {
   "cell_type": "code",
   "execution_count": null,
   "metadata": {},
   "outputs": [],
   "source": [
    "#df_VSAerr = VSA.set_index(['qsoName','ra','dec','filterID'])['aperMag3Err'].unstack(fill_value=-999.99999)\n",
    "df_WSAerr = WSA.set_index(['qsoName','ra','dec','filterID'])['aperMag3Err'].unstack(fill_value=-999.99999)"
   ]
  },
  {
   "cell_type": "code",
   "execution_count": null,
   "metadata": {},
   "outputs": [],
   "source": [
    "#df_VSAerr.to_csv('BestVSA_filterMagErr_1lineperobject_temp.csv',float_format='%g')\n",
    "df_WSAerr.to_csv('BestWSA_filterMagErr_1lineperobject_temp.csv',float_format='%14.7f')\n"
   ]
  },
  {
   "cell_type": "code",
   "execution_count": null,
   "metadata": {},
   "outputs": [],
   "source": []
  },
  {
   "cell_type": "code",
   "execution_count": null,
   "metadata": {},
   "outputs": [],
   "source": []
  },
  {
   "cell_type": "code",
   "execution_count": null,
   "metadata": {},
   "outputs": [],
   "source": []
  }
 ],
 "metadata": {
  "kernelspec": {
   "display_name": "Python 3",
   "language": "python",
   "name": "python3"
  },
  "language_info": {
   "codemirror_mode": {
    "name": "ipython",
    "version": 3
   },
   "file_extension": ".py",
   "mimetype": "text/x-python",
   "name": "python",
   "nbconvert_exporter": "python",
   "pygments_lexer": "ipython3",
   "version": "3.6.4"
  }
 },
 "nbformat": 4,
 "nbformat_minor": 2
}
