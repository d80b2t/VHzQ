{
 "cells": [
  {
   "cell_type": "code",
   "execution_count": 1,
   "metadata": {},
   "outputs": [],
   "source": [
    "from astropy.io import fits\n",
    "from astropy.io import ascii\n",
    "from astropy.table import Table\n",
    "from matplotlib.ticker import AutoMinorLocator\n",
    "\n",
    "import matplotlib\n",
    "import matplotlib.pyplot as plt\n",
    "import numpy as np\n",
    "import math\n",
    "\n",
    "from matplotlib import colors as mcolors\n",
    "from matplotlib import gridspec"
   ]
  },
  {
   "cell_type": "code",
   "execution_count": 2,
   "metadata": {},
   "outputs": [],
   "source": [
    "from astropy.cosmology import FlatLambdaCDM\n",
    "# In this case we just need to define the matter density \n",
    "# and hubble parameter at z=0.\n",
    "# Note the default units for the hubble parameter H0 are km/s/Mpc. \n",
    "# You can also pass an astropy `Quantity` with the units specified. \n",
    "cosmo = FlatLambdaCDM(H0=67.7, Om0=0.307)  #Banados thesis"
   ]
  },
  {
   "cell_type": "code",
   "execution_count": 3,
   "metadata": {},
   "outputs": [],
   "source": [
    "import astropy.units as u\n",
    "ages = np.array([13, 10, 8, 6, 5, 4, 3, 2, 1.5, 1.2, 1, 0.8, 0.70])*u.Gyr\n",
    "from astropy.cosmology import z_at_value\n",
    "ageticks = [z_at_value(cosmo.age, age) for age in ages]"
   ]
  },
  {
   "cell_type": "code",
   "execution_count": 4,
   "metadata": {},
   "outputs": [],
   "source": [
    "## READ-IN THE DATA FILE(S)\n",
    "path = '/cos_pc19a_npr/programs/quasars/highest_z/data/'\n",
    "infile = 'THE_TABLE_v0pnt971.ascii'\n",
    "readin = path+infile\n",
    "all_VHzQs  = ascii.read(readin, delimiter=r'\\s')"
   ]
  },
  {
   "cell_type": "code",
   "execution_count": 5,
   "metadata": {},
   "outputs": [
    {
     "data": {
      "text/html": [
       "<i>Table length=424</i>\n",
       "<table id=\"table4711285256\" class=\"table-striped table-bordered table-condensed\">\n",
       "<thead><tr><th>na</th><th>desig</th><th>ra_hms</th><th>dec_dms</th><th>ra</th><th>dec</th><th>redshift</th><th>mag</th><th>M1450</th><th>errM1450</th><th>ra_WISE</th><th>dec_WISE</th><th>w1mag</th><th>w1err</th><th>w1snr</th><th>w2mag</th><th>w2err</th><th>w2snr</th><th>w3mag</th><th>w3err</th><th>w3snr</th><th>w4mag</th><th>w4err</th><th>w4snr</th><th>ref</th></tr></thead>\n",
       "<thead><tr><th>str7</th><th>str17</th><th>str11</th><th>str12</th><th>float64</th><th>float64</th><th>float64</th><th>float64</th><th>float64</th><th>float64</th><th>float64</th><th>float64</th><th>float64</th><th>float64</th><th>float64</th><th>float64</th><th>float64</th><th>float64</th><th>float64</th><th>float64</th><th>float64</th><th>float64</th><th>float64</th><th>float64</th><th>str23</th></tr></thead>\n",
       "<tr><td>PSO</td><td>J000.3401+26.8358</td><td>00:01:21.63</td><td>+26:50:09.17</td><td>0.34011348</td><td>26.83588138</td><td>5.75</td><td>19.52</td><td>-27.16</td><td>9.99</td><td>0.3400887</td><td>26.835823</td><td>16.373</td><td>0.066</td><td>16.5</td><td>15.266</td><td>0.107</td><td>10.2</td><td>12.594</td><td>0.492</td><td>2.2</td><td>8.756</td><td>-9.99</td><td>1.1</td><td>1/1/1</td></tr>\n",
       "<tr><td>SDSS</td><td>J0002+2550</td><td>00:02:39.39</td><td>+25:50:34.80</td><td>0.66411726</td><td>25.84304425</td><td>5.82</td><td>19.39</td><td>-27.31</td><td>9.99</td><td>0.6641312</td><td>25.8430852</td><td>16.162</td><td>0.057</td><td>19.0</td><td>15.542</td><td>0.127</td><td>8.5</td><td>12.416</td><td>0.423</td><td>2.6</td><td>8.683</td><td>-9.99</td><td>1.2</td><td>5/22/1</td></tr>\n",
       "<tr><td>SDSS</td><td>J0005-0006</td><td>00:05:52.34</td><td>-00:06:55.80</td><td>1.4680833</td><td>-0.1154999</td><td>5.85</td><td>20.98</td><td>-25.73</td><td>9.99</td><td>1.4683933</td><td>-0.1154292</td><td>17.299</td><td>0.16</td><td>6.8</td><td>17.043</td><td>-9.99</td><td>0.2</td><td>12.445</td><td>-9.99</td><td>-1.1</td><td>9.008</td><td>-9.99</td><td>-0.3</td><td>5/12/1</td></tr>\n",
       "<tr><td>PSO</td><td>J002.1073-06.4345</td><td>00:08:25.77</td><td>-06:26:04.60</td><td>2.10739</td><td>-6.43456</td><td>5.93</td><td>20.41</td><td>-26.32</td><td>9.99</td><td>2.1073696</td><td>-6.4345725</td><td>16.809</td><td>0.107</td><td>10.1</td><td>15.684</td><td>0.141</td><td>7.7</td><td>11.892</td><td>-9.99</td><td>1.5</td><td>8.759</td><td>-9.99</td><td>0.2</td><td>1;43/1/1</td></tr>\n",
       "<tr><td>SDWISE</td><td>J0008+3616</td><td>00:08:51.43</td><td>+36:16:13.49</td><td>2.2142917</td><td>36.2704138</td><td>5.17</td><td>19.12</td><td>-27.34</td><td>9.99</td><td>2.2142355</td><td>36.2704366</td><td>16.045</td><td>0.052</td><td>20.7</td><td>15.373</td><td>0.092</td><td>11.8</td><td>12.043</td><td>-9.99</td><td>1.8</td><td>8.786</td><td>-9.99</td><td>1.1</td><td>Wang2016</td></tr>\n",
       "<tr><td>PSO</td><td>J002.3786+32.8702</td><td>00:09:30.89</td><td>+32:52:12.94</td><td>2.37870183</td><td>32.87026179</td><td>6.1</td><td>21.13</td><td>-25.65</td><td>9.99</td><td>2.3787018</td><td>32.8702618</td><td>-99.99</td><td>-9.99</td><td>-9.9</td><td>-99.99</td><td>-9.99</td><td>-9.9</td><td>-99.99</td><td>-9.99</td><td>-9.9</td><td>-9.99</td><td>-9.99</td><td>-9.9</td><td>1/1/1</td></tr>\n",
       "<tr><td>SDSS</td><td>J0017-1000</td><td>00:17:14.68</td><td>-10:00:55.4</td><td>4.3111666</td><td>-10.01539722</td><td>5.011</td><td>99.99</td><td>-99.99</td><td>9.99</td><td>4.3111476</td><td>-10.0154269</td><td>15.936</td><td>0.055</td><td>19.7</td><td>15.167</td><td>0.094</td><td>11.5</td><td>12.026</td><td>0.334</td><td>3.2</td><td>8.52</td><td>-9.99</td><td>1.2</td><td>DR7_W16</td></tr>\n",
       "<tr><td>PSO</td><td>J004.3936+17.0862</td><td>00:17:34.47</td><td>+17:05:10.70</td><td>4.39361347</td><td>17.08630447</td><td>5.8</td><td>20.69</td><td>-26.01</td><td>9.99</td><td>4.3936134</td><td>17.0863047</td><td>-99.99</td><td>-9.99</td><td>-9.9</td><td>-99.99</td><td>-9.99</td><td>-9.9</td><td>-99.99</td><td>-9.99</td><td>-9.9</td><td>-9.99</td><td>-9.99</td><td>-9.9</td><td>1/1/1</td></tr>\n",
       "<tr><td>PSO</td><td>J004.8140-24.2991</td><td>00:19:15.38</td><td>-24:17:56.98</td><td>4.81408</td><td>-24.29916</td><td>5.68</td><td>19.43</td><td>-27.24</td><td>9.99</td><td>4.814116</td><td>-24.2990993</td><td>16.281</td><td>0.069</td><td>15.8</td><td>15.569</td><td>0.116</td><td>9.4</td><td>12.123</td><td>0.344</td><td>3.2</td><td>8.82</td><td>-9.99</td><td>0.5</td><td>1/1/1</td></tr>\n",
       "<tr><td>VDES</td><td>J0020-3653</td><td>00:20:31.46</td><td>-36:53:41.8</td><td>5.1311237</td><td>-36.8949476</td><td>6.9</td><td>99.99</td><td>-99.99</td><td>9.99</td><td>5.1311237</td><td>-36.8949476</td><td>16.844</td><td>0.094</td><td>11.6</td><td>16.354</td><td>0.204</td><td>5.3</td><td>12.679</td><td>-9.99</td><td>-0.1</td><td>8.342</td><td>-9.99</td><td>0.8</td><td>DES-VHS_inprep</td></tr>\n",
       "<tr><td>...</td><td>...</td><td>...</td><td>...</td><td>...</td><td>...</td><td>...</td><td>...</td><td>...</td><td>...</td><td>...</td><td>...</td><td>...</td><td>...</td><td>...</td><td>...</td><td>...</td><td>...</td><td>...</td><td>...</td><td>...</td><td>...</td><td>...</td><td>...</td><td>...</td></tr>\n",
       "<tr><td>SDWISE</td><td>J2329+3003</td><td>23:29:39.30</td><td>+30:03:50.78</td><td>352.41375</td><td>30.0641055</td><td>5.24</td><td>18.83</td><td>-27.65</td><td>9.99</td><td>352.4137247</td><td>30.06417</td><td>16.209</td><td>0.059</td><td>18.4</td><td>15.425</td><td>0.101</td><td>10.8</td><td>12.656</td><td>-9.99</td><td>-0.2</td><td>9.072</td><td>-9.99</td><td>-0.4</td><td>Wang2016</td></tr>\n",
       "<tr><td>SDUV</td><td>J2330+0957</td><td>23:30:08.71</td><td>+09:57:43.7</td><td>352.53629166</td><td>9.96213888</td><td>5.3</td><td>99.99</td><td>-26.75</td><td>9.99</td><td>352.5366214</td><td>9.9623406</td><td>15.923</td><td>0.059</td><td>18.5</td><td>15.145</td><td>0.11</td><td>9.8</td><td>12.146</td><td>0.386</td><td>2.8</td><td>8.917</td><td>0.538</td><td>2.0</td><td>Yang2017</td></tr>\n",
       "<tr><td>SDSS</td><td>J2334-0010</td><td>23:34:55.05</td><td>-00:10:22.1</td><td>353.7293749</td><td>-0.1728055</td><td>5.11</td><td>99.99</td><td>-24.65</td><td>9.99</td><td>353.7293749</td><td>-0.172805</td><td>-99.99</td><td>-9.99</td><td>-9.9</td><td>-99.99</td><td>-9.99</td><td>-9.9</td><td>-99.99</td><td>-9.99</td><td>-9.9</td><td>-9.99</td><td>-9.99</td><td>-9.9</td><td>McGreer2013</td></tr>\n",
       "<tr><td>SDWISE</td><td>J2344+1653</td><td>23:44:33.50</td><td>+16:53:16.48</td><td>356.1395833</td><td>16.8879111</td><td>5.0</td><td>18.54</td><td>-27.86</td><td>9.99</td><td>356.1396011</td><td>16.8878795</td><td>15.224</td><td>0.041</td><td>26.4</td><td>14.559</td><td>0.058</td><td>18.8</td><td>11.999</td><td>0.281</td><td>3.9</td><td>8.956</td><td>-9.99</td><td>0.1</td><td>Wang2016</td></tr>\n",
       "<tr><td>VIK</td><td>J2348-3054</td><td>23:48:33.34</td><td>-30:54:10.00</td><td>357.1389</td><td>-30.902844</td><td>6.9018</td><td>21.17</td><td>-25.8</td><td>9.99</td><td>357.1389072</td><td>-30.9028285</td><td>17.673</td><td>0.172</td><td>6.3</td><td>16.732</td><td>-9.99</td><td>1.8</td><td>12.137</td><td>-9.99</td><td>1.5</td><td>9.14</td><td>0.487</td><td>2.2</td><td>33/51/1</td></tr>\n",
       "<tr><td>PSO</td><td>J357.8289+06.4019</td><td>23:51:18.96</td><td>+06:24:06.92</td><td>357.8289911</td><td>6.40192191</td><td>5.81</td><td>21.41</td><td>-25.28</td><td>9.99</td><td>357.8289911</td><td>6.4019219</td><td>-99.99</td><td>-9.99</td><td>-9.9</td><td>-99.99</td><td>-9.99</td><td>-9.9</td><td>-99.99</td><td>-9.99</td><td>-9.9</td><td>-9.99</td><td>-9.99</td><td>-9.9</td><td>1/1/1</td></tr>\n",
       "<tr><td>SDUV</td><td>J2351-0459</td><td>23:51:24.31</td><td>-04:59:07.3</td><td>357.85129166</td><td>-4.98536111</td><td>5.25</td><td>99.99</td><td>-26.34</td><td>9.99</td><td>357.8513621</td><td>-4.9855225</td><td>17.206</td><td>0.158</td><td>6.9</td><td>16.14</td><td>0.242</td><td>4.5</td><td>12.549</td><td>-9.99</td><td>-1.6</td><td>8.892</td><td>-9.99</td><td>0.1</td><td>Yang2017</td></tr>\n",
       "<tr><td>PSO</td><td>J359.1352-06.3831</td><td>23:56:32.45</td><td>-06:22:59.26</td><td>359.1352149</td><td>-6.38312644</td><td>6.15</td><td>20.0</td><td>-26.79</td><td>9.99</td><td>359.1352606</td><td>-6.3831937</td><td>16.557</td><td>0.1</td><td>10.9</td><td>15.702</td><td>0.196</td><td>5.6</td><td>11.895</td><td>-9.99</td><td>1.2</td><td>8.7</td><td>-9.99</td><td>-0.1</td><td>1;52/1/1</td></tr>\n",
       "<tr><td>SDSS</td><td>J2356+0023</td><td>23:56:51.58</td><td>+00:23:33.30</td><td>359.21491</td><td>0.3925833</td><td>6.0</td><td>21.25</td><td>-25.5</td><td>9.99</td><td>359.21491</td><td>0.3925833</td><td>-99.99</td><td>-9.99</td><td>-9.9</td><td>-99.99</td><td>-9.99</td><td>-9.9</td><td>-99.99</td><td>-9.99</td><td>-9.9</td><td>-9.99</td><td>-9.99</td><td>-9.9</td><td>18/18/1</td></tr>\n",
       "<tr><td>SDUV</td><td>J2358+0634</td><td>23:58:24.04</td><td>+06:34:37.4</td><td>359.60016666</td><td>6.57705555</td><td>5.32</td><td>99.99</td><td>-27.26</td><td>9.99</td><td>359.5997622</td><td>6.5771028</td><td>16.009</td><td>0.058</td><td>18.9</td><td>15.249</td><td>0.095</td><td>11.5</td><td>12.113</td><td>0.376</td><td>2.9</td><td>9.113</td><td>-9.99</td><td>0.0</td><td>Yang2017</td></tr>\n",
       "</table>"
      ],
      "text/plain": [
       "<Table length=424>\n",
       "  na         desig          ra_hms   ...  w4err   w4snr       ref      \n",
       " str7        str17          str11    ... float64 float64     str23     \n",
       "------ ----------------- ----------- ... ------- ------- --------------\n",
       "   PSO J000.3401+26.8358 00:01:21.63 ...   -9.99     1.1          1/1/1\n",
       "  SDSS        J0002+2550 00:02:39.39 ...   -9.99     1.2         5/22/1\n",
       "  SDSS        J0005-0006 00:05:52.34 ...   -9.99    -0.3         5/12/1\n",
       "   PSO J002.1073-06.4345 00:08:25.77 ...   -9.99     0.2       1;43/1/1\n",
       "SDWISE        J0008+3616 00:08:51.43 ...   -9.99     1.1       Wang2016\n",
       "   PSO J002.3786+32.8702 00:09:30.89 ...   -9.99    -9.9          1/1/1\n",
       "  SDSS        J0017-1000 00:17:14.68 ...   -9.99     1.2        DR7_W16\n",
       "   PSO J004.3936+17.0862 00:17:34.47 ...   -9.99    -9.9          1/1/1\n",
       "   PSO J004.8140-24.2991 00:19:15.38 ...   -9.99     0.5          1/1/1\n",
       "  VDES        J0020-3653 00:20:31.46 ...   -9.99     0.8 DES-VHS_inprep\n",
       "   ...               ...         ... ...     ...     ...            ...\n",
       "SDWISE        J2329+3003 23:29:39.30 ...   -9.99    -0.4       Wang2016\n",
       "  SDUV        J2330+0957 23:30:08.71 ...   0.538     2.0       Yang2017\n",
       "  SDSS        J2334-0010 23:34:55.05 ...   -9.99    -9.9    McGreer2013\n",
       "SDWISE        J2344+1653 23:44:33.50 ...   -9.99     0.1       Wang2016\n",
       "   VIK        J2348-3054 23:48:33.34 ...   0.487     2.2        33/51/1\n",
       "   PSO J357.8289+06.4019 23:51:18.96 ...   -9.99    -9.9          1/1/1\n",
       "  SDUV        J2351-0459 23:51:24.31 ...   -9.99     0.1       Yang2017\n",
       "   PSO J359.1352-06.3831 23:56:32.45 ...   -9.99    -0.1       1;52/1/1\n",
       "  SDSS        J2356+0023 23:56:51.58 ...   -9.99    -9.9        18/18/1\n",
       "  SDUV        J2358+0634 23:58:24.04 ...   -9.99     0.0       Yang2017"
      ]
     },
     "execution_count": 5,
     "metadata": {},
     "output_type": "execute_result"
    }
   ],
   "source": [
    "all_VHzQs"
   ]
  },
  {
   "cell_type": "code",
   "execution_count": 6,
   "metadata": {},
   "outputs": [],
   "source": [
    "## Gotta give credit where it's due... \n",
    "## Kulkarni, of arXiv:1807.09774v1 fame, \n",
    "## gives full datafiles and scripts on their GitHub::\n",
    "## https://github.com/gkulkarni/QLF \n",
    "##\n",
    "## Load e.g. the k-correction based on Lusso et al. (2015)\n",
    "kcorr_path= '/cos_pc19a_npr/programs/quasars/highest_z/Lz/kcorr/'\n",
    "\n",
    "## There's the g-band correction (essentially z<2.2)\n",
    "z_kcorr_gband, kcorr_Lusso15_gband = np.loadtxt(kcorr_path+'kcorrg_l15.dat', usecols=(1,2), unpack=True)\n",
    "## There's the g-band correction (essentially z<4.7)\n",
    "z_kcorr_iband, kcorr_Lusso15_iband = np.loadtxt(kcorr_path+'kcorri_l15.dat', usecols=(1,2), unpack=True)\n",
    "## There's the g-band correction (essentially 4.7<z<5.5)\n",
    "z_kcorr_zband, kcorr_Lusso15_zband = np.loadtxt(kcorr_path+'kcorrz_l15.dat', usecols=(1,2), unpack=True)\n"
   ]
  },
  {
   "cell_type": "code",
   "execution_count": 7,
   "metadata": {},
   "outputs": [],
   "source": [
    "##\n",
    "## DISTANCE MODULUS CALCULATIONS!!!!\n",
    "##\n",
    "##   m - M = 5 * log(d) - 5\n",
    "## m is the apparent magnitude of the object\n",
    "## M is the absolute magnitude of the object\n",
    "## d is the distance to the object in parsecs"
   ]
  },
  {
   "cell_type": "code",
   "execution_count": 8,
   "metadata": {},
   "outputs": [
    {
     "data": {
      "text/plain": [
       "FlatLambdaCDM(H0=67.7 km / (Mpc s), Om0=0.307, Tcmb0=0 K, Neff=3.04, m_nu=None, Ob0=None)"
      ]
     },
     "execution_count": 8,
     "metadata": {},
     "output_type": "execute_result"
    }
   ],
   "source": [
    "cosmo"
   ]
  },
  {
   "cell_type": "code",
   "execution_count": 9,
   "metadata": {},
   "outputs": [
    {
     "data": {
      "text/latex": [
       "$36799.943 \\; \\mathrm{Mpc}$"
      ],
      "text/plain": [
       "<Quantity 36799.94270634 Mpc>"
      ]
     },
     "execution_count": 9,
     "metadata": {},
     "output_type": "execute_result"
    }
   ],
   "source": [
    "cosmo.luminosity_distance(4)"
   ]
  },
  {
   "cell_type": "code",
   "execution_count": 10,
   "metadata": {},
   "outputs": [
    {
     "data": {
      "text/latex": [
       "$[56363.073,~57162.691,~57505.727,~\\dots,~60947.098,~59223.945,~51476.796] \\; \\mathrm{Mpc}$"
      ],
      "text/plain": [
       "<Quantity [56363.07313576, 57162.69072754, 57505.72749517, 58421.48623185,\n",
       "           49783.21758576, 60372.17528423, 47994.58755644, 56934.11361849,\n",
       "           55564.59236539, 69631.59283343, 48545.06450919, 66353.35131019,\n",
       "           48657.48801147, 59223.94531366, 51589.90929588, 60717.06473882,\n",
       "           56020.72681811, 58650.64963774, 64060.70441779, 62133.10362002,\n",
       "           48882.41709733, 59292.77775369, 62972.69921289, 58650.64963774,\n",
       "           53857.47722805, 49107.45515489, 68361.54735169, 47871.10256097,\n",
       "           48994.92253974, 48657.48801147, 51589.90929588, 56819.85944088,\n",
       "           47983.36025592, 56690.77988758, 49895.93847268, 58077.90828667,\n",
       "           51250.64662631, 61637.70435706, 57505.72749517, 62790.38667277,\n",
       "           62098.52838557, 58994.56091842, 51816.21272381, 59109.24212779,\n",
       "           59453.4174208 , 59568.18624548, 56020.72681811, 52042.61821443,\n",
       "           59568.18624548, 50459.94090592, 64202.90080915, 48432.66846197,\n",
       "           63482.98327215, 67537.37594563, 49332.60162451, 50798.6583646 ,\n",
       "           59338.67042746, 61522.55060996, 49107.45515489, 58077.90828667,\n",
       "           48095.64576599, 48095.64576599, 61073.65200763, 64986.09828028,\n",
       "           65463.1696283 , 61522.55060996, 52495.73338676, 52042.61821443,\n",
       "           59223.94531366, 60257.25497486, 57162.69072754, 55564.59236539,\n",
       "           50347.08757599, 67769.76894931, 57963.42708199, 47871.10256097,\n",
       "           55564.59236539, 53516.7075235 , 60119.3789863 , 66312.75831291,\n",
       "           51929.40274266, 59109.24212779, 58536.05682374, 48320.29994119,\n",
       "           62098.52838557, 57620.11850541, 62098.52838557, 57734.53214062,\n",
       "           48207.95901852, 55564.59236539, 55564.59236539, 59109.24212779,\n",
       "           50121.46004756, 60050.45262679, 61292.30614173, 59568.18624548,\n",
       "           61637.70435706, 60027.4788998 , 60832.07057769, 60602.08021274,\n",
       "           57963.42708199, 55678.59074762, 60257.25497486, 57848.96834976,\n",
       "           59797.78919695, 58306.93791176, 47983.36025592, 50053.79242558,\n",
       "           50798.6583646 , 48545.06450919, 57162.69072754, 51137.61065042,\n",
       "           59453.4174208 , 49557.85595143, 59797.78919695, 57505.72749517,\n",
       "           51816.21272381, 48095.64576599, 60947.09768327, 57963.42708199,\n",
       "           48601.2728329 , 57048.39073146, 57391.35916112, 57438.2474321 ,\n",
       "           58994.56091842, 60015.99236018, 61292.30614173, 62098.52838557,\n",
       "           47871.10256097, 57734.53214062, 59338.67042746, 49783.21758576,\n",
       "           63252.03627908, 59109.24212779, 63714.01127109, 54994.95523275,\n",
       "           54994.95523275, 50290.67078998, 59338.67042746, 58306.93791176,\n",
       "           58192.41191334, 62329.06520107, 53176.15924317, 60947.09768327,\n",
       "           60027.4788998 , 49220.01487298, 50008.68598241, 49107.45515489,\n",
       "           61407.41785648, 65680.97279846, 48410.19255341, 48623.75808224,\n",
       "           66144.61247623, 56614.25988577, 48084.41596537, 51476.79601291,\n",
       "           49805.75963007, 49445.21534029, 49445.21534029, 49952.30890391,\n",
       "           59797.78919695, 49174.98773785, 48657.48801147, 48657.48801147,\n",
       "           51250.64662631, 63945.11993836, 54084.77926185, 48207.95901852,\n",
       "           51929.40274266, 53176.15924317, 50685.72636604, 49557.85595143,\n",
       "           62767.31278297, 57848.96834976, 52382.41672466, 47983.36025592,\n",
       "           60027.4788998 , 63598.48716704, 52835.83398996, 48826.1745878 ,\n",
       "           56759.31404381, 66492.54518915, 61849.64195373, 49614.18632131,\n",
       "           50855.13415234, 49388.90511618, 58306.93791176, 47871.10256097,\n",
       "           58650.64963774, 65157.43505954, 48028.2711262 , 71780.77936675,\n",
       "           49974.85893811, 47871.10256097, 49107.45515489, 50301.95361969,\n",
       "           56591.42010166, 47882.32707671, 49749.40652124, 54767.26697846,\n",
       "           55678.59074762, 59568.18624548, 57048.39073146, 55678.59074762,\n",
       "           56934.11361849, 61062.14600961, 62329.06520107, 47972.13323354,\n",
       "           62675.02543398, 51363.70843514, 63125.05008471, 55792.61265347,\n",
       "           64047.98914327, 49332.60162451, 57391.35916112, 55336.66639105,\n",
       "           63482.98327215, 57277.0135547 , 47994.58755644, 47927.227927  ,\n",
       "           49445.21534029, 59912.62322822, 50832.54305502, 58421.48623185,\n",
       "           48882.41709733, 67885.99364228, 59682.97685348, 59338.67042746,\n",
       "           50945.5089601 , 48545.06450919, 61522.55060996, 57620.11850541,\n",
       "           49535.32568086, 64275.74482447, 57620.11850541, 58421.48623185,\n",
       "           61522.55060996, 59338.67042746, 50019.96219504, 49332.60162451,\n",
       "           56591.42010166, 57963.42708199, 51273.25692349, 49963.5837881 ,\n",
       "           48320.29994119, 57277.0135547 , 60947.09768327, 58192.41191334,\n",
       "           59453.4174208 , 59407.51600101, 57391.35916112, 50685.72636604,\n",
       "           60751.56425474, 56248.93442558, 49107.45515489, 49220.01487298,\n",
       "           58091.64753898, 55450.61756154, 48241.65839324, 48207.95901852,\n",
       "           51680.41838734, 48129.33683208, 50459.94090592, 77124.11403256,\n",
       "           48567.54701552, 56020.72681811, 51476.79601291, 59682.97685348,\n",
       "           59682.97685348, 60832.07057769, 59682.97685348, 57848.96834976,\n",
       "           57391.35916112, 63021.17063183, 60372.17528423, 48657.48801147,\n",
       "           57277.0135547 , 58123.70704952, 58306.93791176, 50572.82052459,\n",
       "           49670.52338934, 58536.05682374, 52609.07519237, 56705.62825106,\n",
       "           59568.18624548, 60027.4788998 , 59453.4174208 , 47871.10256097,\n",
       "           56134.81896847, 57963.42708199, 48106.87584402, 60717.06473882,\n",
       "           57984.03204183, 61292.30614173, 53857.47722805, 60602.08021274,\n",
       "           60487.11704573, 68467.3975343 , 59682.97685348, 52269.12526745,\n",
       "           61327.98852049, 60832.07057769, 50347.08757599, 57505.72749517,\n",
       "           51307.17430561, 49783.21758576, 60717.06473882, 49220.01487298,\n",
       "           60613.57770495, 48545.06450919, 53176.15924317, 58306.93791176,\n",
       "           49107.45515489, 51589.90929588, 48769.93889776, 65986.9401842 ,\n",
       "           54312.17853796, 48365.24404175, 57162.69072754, 64986.09828028,\n",
       "           57162.69072754, 56705.62825106, 57391.35916112, 57048.39073146,\n",
       "           60487.11704573, 60027.4788998 , 48545.06450919, 60257.25497486,\n",
       "           59682.97685348, 60832.07057769, 57277.0135547 , 47927.227927  ,\n",
       "           51397.63200564, 48893.6664168 , 55564.59236539, 55906.65802841,\n",
       "           49332.60162451, 62213.78643008, 49670.52338934, 48331.53555253,\n",
       "           64708.34669807, 59970.04836193, 59763.34321452, 51703.04822058,\n",
       "           51386.32389122, 49783.21758576, 64291.93345987, 58650.64963774,\n",
       "           48095.64576599, 60142.3561644 , 61983.29111164, 56934.11361849,\n",
       "           58306.93791176, 59672.64480798, 60222.7830722 , 53062.69263158,\n",
       "           58077.90828667, 49895.93847268, 57734.53214062, 56134.81896847,\n",
       "           66006.64726354, 54767.26697846, 57048.39073146, 58306.93791176,\n",
       "           48545.06450919, 61062.14600961, 48657.48801147, 50459.94090592,\n",
       "           58536.05682374, 53857.47722805, 69631.59283343, 62905.76841978,\n",
       "           50459.94090592, 52609.07519237, 51363.70843514, 51024.60057176,\n",
       "           59568.18624548, 47983.36025592, 60372.17528423, 61062.14600961,\n",
       "           54881.09914983, 59797.78919695, 51816.21272381, 48769.93889776,\n",
       "           59338.67042746, 58650.64963774, 49467.74131308, 60142.3561644 ,\n",
       "           60966.65440288, 57734.53214062, 61292.30614173, 66910.29244087,\n",
       "           49107.45515489, 63829.55554219, 49783.21758576, 48882.41709733,\n",
       "           62213.78643008, 58994.56091842, 57848.96834976, 49670.52338934,\n",
       "           59223.94531366, 60602.08021274, 63136.59326588, 63367.49962869,\n",
       "           57734.53214062, 59259.50775601, 48769.93889776, 60602.08021274,\n",
       "           65101.86165117, 59797.78919695, 56591.42010166, 50347.08757599,\n",
       "           64026.0269677 , 58077.90828667, 50572.82052459, 51250.64662631,\n",
       "           49107.45515489, 47871.10256097, 69652.56513151, 57048.39073146,\n",
       "           50685.72636604, 60947.09768327, 59223.94531366, 51476.79601291] Mpc>"
      ]
     },
     "execution_count": 10,
     "metadata": {},
     "output_type": "execute_result"
    }
   ],
   "source": [
    "cosmo.luminosity_distance(all_VHzQs['redshift'])"
   ]
  },
  {
   "cell_type": "code",
   "execution_count": 11,
   "metadata": {},
   "outputs": [],
   "source": [
    "d_Mpc = cosmo.luminosity_distance(all_VHzQs['redshift'])"
   ]
  },
  {
   "cell_type": "code",
   "execution_count": 12,
   "metadata": {},
   "outputs": [],
   "source": [
    "#d_Mpc.value"
   ]
  },
  {
   "cell_type": "code",
   "execution_count": 13,
   "metadata": {},
   "outputs": [],
   "source": [
    "kcorr = 0.0"
   ]
  },
  {
   "cell_type": "code",
   "execution_count": 14,
   "metadata": {},
   "outputs": [],
   "source": [
    "Abs_Mag = (all_VHzQs['mag'])  - (5.*(np.log10(d_Mpc.value))) - 25. + kcorr\n",
    "#Abs_Mag"
   ]
  },
  {
   "cell_type": "code",
   "execution_count": 15,
   "metadata": {},
   "outputs": [],
   "source": [
    "delta_mags = Abs_Mag - all_VHzQs['M1450'] "
   ]
  },
  {
   "cell_type": "code",
   "execution_count": 16,
   "metadata": {},
   "outputs": [
    {
     "data": {
      "text/plain": [
       "-29.23497332260522"
      ]
     },
     "execution_count": 16,
     "metadata": {},
     "output_type": "execute_result"
    }
   ],
   "source": [
    "Abs_Mag[0]"
   ]
  },
  {
   "cell_type": "code",
   "execution_count": 17,
   "metadata": {},
   "outputs": [
    {
     "data": {
      "text/html": [
       "<i>Row index=1</i>\n",
       "<table id=\"table4711285256\">\n",
       "<thead><tr><th>na</th><th>desig</th><th>ra_hms</th><th>dec_dms</th><th>ra</th><th>dec</th><th>redshift</th><th>mag</th><th>M1450</th><th>errM1450</th><th>ra_WISE</th><th>dec_WISE</th><th>w1mag</th><th>w1err</th><th>w1snr</th><th>w2mag</th><th>w2err</th><th>w2snr</th><th>w3mag</th><th>w3err</th><th>w3snr</th><th>w4mag</th><th>w4err</th><th>w4snr</th><th>ref</th></tr></thead>\n",
       "<thead><tr><th>str7</th><th>str17</th><th>str11</th><th>str12</th><th>float64</th><th>float64</th><th>float64</th><th>float64</th><th>float64</th><th>float64</th><th>float64</th><th>float64</th><th>float64</th><th>float64</th><th>float64</th><th>float64</th><th>float64</th><th>float64</th><th>float64</th><th>float64</th><th>float64</th><th>float64</th><th>float64</th><th>float64</th><th>str23</th></tr></thead>\n",
       "<tr><td>SDSS</td><td>J0002+2550</td><td>00:02:39.39</td><td>+25:50:34.80</td><td>0.66411726</td><td>25.84304425</td><td>5.82</td><td>19.39</td><td>-27.31</td><td>9.99</td><td>0.6641312</td><td>25.8430852</td><td>16.162</td><td>0.057</td><td>19.0</td><td>15.542</td><td>0.127</td><td>8.5</td><td>12.416</td><td>0.423</td><td>2.6</td><td>8.683</td><td>-9.99</td><td>1.2</td><td>5/22/1</td></tr>\n",
       "</table>"
      ],
      "text/plain": [
       "<Row index=1>\n",
       " na    desig       ra_hms     dec_dms        ra         dec     redshift   mag    M1450  errM1450  ra_WISE   dec_WISE   w1mag   w1err   w1snr   w2mag   w2err   w2snr   w3mag   w3err   w3snr   w4mag   w4err   w4snr   ref  \n",
       "str7   str17       str11       str12      float64     float64   float64  float64 float64 float64   float64   float64   float64 float64 float64 float64 float64 float64 float64 float64 float64 float64 float64 float64 str23 \n",
       "---- ---------- ----------- ------------ ---------- ----------- -------- ------- ------- -------- --------- ---------- ------- ------- ------- ------- ------- ------- ------- ------- ------- ------- ------- ------- ------\n",
       "SDSS J0002+2550 00:02:39.39 +25:50:34.80 0.66411726 25.84304425     5.82   19.39  -27.31     9.99 0.6641312 25.8430852  16.162   0.057    19.0  15.542   0.127     8.5  12.416   0.423     2.6   8.683   -9.99     1.2 5/22/1"
      ]
     },
     "execution_count": 17,
     "metadata": {},
     "output_type": "execute_result"
    }
   ],
   "source": [
    "all_VHzQs[1]"
   ]
  },
  {
   "cell_type": "code",
   "execution_count": 18,
   "metadata": {},
   "outputs": [
    {
     "data": {
      "text/plain": [
       "-29.395563317233737"
      ]
     },
     "execution_count": 18,
     "metadata": {},
     "output_type": "execute_result"
    }
   ],
   "source": [
    "Abs_Mag[1]"
   ]
  },
  {
   "cell_type": "code",
   "execution_count": 19,
   "metadata": {},
   "outputs": [],
   "source": [
    "z_slope_in = (np.arange(800)/100)\n",
    "z_slope = -2.5*(np.log10(1+z_slope_in))"
   ]
  },
  {
   "cell_type": "code",
   "execution_count": 20,
   "metadata": {},
   "outputs": [
    {
     "data": {
      "text/plain": [
       "(-20.5, -34.0)"
      ]
     },
     "execution_count": 20,
     "metadata": {},
     "output_type": "execute_result"
    },
    {
     "data": {
      "image/png": "[encoded data removed]",
      "text/plain": [
       "<Figure size 432x288 with 1 Axes>"
      ]
     },
     "metadata": {},
     "output_type": "display_data"
    }
   ],
   "source": [
    "fig, ax = plt.subplots()\n",
    "ax.scatter(all_VHzQs['redshift'], Abs_Mag, marker='.')\n",
    "ymin = -20.5\n",
    "ymax = -34.0\n",
    "ax.set_ylim((ymin, ymax))"
   ]
  },
  {
   "cell_type": "code",
   "execution_count": 21,
   "metadata": {},
   "outputs": [
    {
     "data": {
      "text/plain": [
       "(-2.5, -0.0)"
      ]
     },
     "execution_count": 21,
     "metadata": {},
     "output_type": "execute_result"
    },
    {
     "data": {
      "image/png": "[encoded data removed]",
      "text/plain": [
       "<Figure size 1008x432 with 1 Axes>"
      ]
     },
     "metadata": {},
     "output_type": "display_data"
    }
   ],
   "source": [
    "fig, ax = plt.subplots(figsize=(14,6))\n",
    "s = 500\n",
    "lw=6\n",
    "\n",
    "plt.plot(z_kcorr_gband, kcorr_Lusso15_gband, c='b', lw=lw) \n",
    "plt.plot(z_kcorr_iband, kcorr_Lusso15_iband, c='r', lw=lw) \n",
    "plt.plot(z_kcorr_zband, kcorr_Lusso15_zband, c='k', lw=lw) \n",
    "\n",
    "plt.plot(z_slope_in, z_slope, lw=2)\n",
    "\n",
    "ax.scatter(all_VHzQs['redshift'], delta_mags, marker='.', s=s, alpha=0.8)\n",
    "\n",
    "xmin =  0.0\n",
    "xmax =  8.0\n",
    "ax.set_xlim((xmin, xmax))\n",
    "\n",
    "ymin = -2.5\n",
    "ymax = -0.0\n",
    "ax.set_ylim((ymin, ymax))"
   ]
  },
  {
   "cell_type": "code",
   "execution_count": 26,
   "metadata": {},
   "outputs": [
    {
     "data": {
      "text/plain": [
       "(-2.5, -1.8)"
      ]
     },
     "execution_count": 26,
     "metadata": {},
     "output_type": "execute_result"
    },
    {
     "data": {
      "image/png": "[encoded data removed]",
      "text/plain": [
       "<Figure size 864x576 with 1 Axes>"
      ]
     },
     "metadata": {},
     "output_type": "display_data"
    }
   ],
   "source": [
    "fig, ax = plt.subplots(figsize=(12,8))\n",
    "s = 500\n",
    "lw=6\n",
    "\n",
    "plt.plot(z_kcorr_gband, kcorr_Lusso15_gband, c='b', lw=lw) \n",
    "plt.plot(z_kcorr_iband, kcorr_Lusso15_iband, c='r', lw=lw) \n",
    "plt.plot(z_kcorr_zband, kcorr_Lusso15_zband, c='k', lw=lw) \n",
    "\n",
    "plt.plot(z_slope_in, z_slope, lw=2)\n",
    "\n",
    "ax.scatter(all_VHzQs['redshift'], delta_mags, marker='.', s=s, alpha=0.8)\n",
    "\n",
    "xmin =  4.9\n",
    "xmax =  7.6\n",
    "ax.set_xlim((xmin, xmax))\n",
    "\n",
    "ymin = -2.5\n",
    "ymax = -1.8\n",
    "ax.set_ylim((ymin, ymax))"
   ]
  },
  {
   "cell_type": "code",
   "execution_count": null,
   "metadata": {},
   "outputs": [],
   "source": []
  },
  {
   "cell_type": "code",
   "execution_count": null,
   "metadata": {},
   "outputs": [],
   "source": []
  },
  {
   "cell_type": "code",
   "execution_count": null,
   "metadata": {},
   "outputs": [],
   "source": []
  },
  {
   "cell_type": "code",
   "execution_count": null,
   "metadata": {},
   "outputs": [],
   "source": []
  }
 ],
 "metadata": {
  "kernelspec": {
   "display_name": "Python 3",
   "language": "python",
   "name": "python3"
  },
  "language_info": {
   "codemirror_mode": {
    "name": "ipython",
    "version": 3
   },
   "file_extension": ".py",
   "mimetype": "text/x-python",
   "name": "python",
   "nbconvert_exporter": "python",
   "pygments_lexer": "ipython3",
   "version": "3.6.4"
  }
 },
 "nbformat": 4,
 "nbformat_minor": 2
}
