{
 "cells": [
  {
   "cell_type": "code",
   "execution_count": 1,
   "metadata": {},
   "outputs": [],
   "source": [
    "import numpy as np\n",
    "from astropy.io import ascii\n",
    "from astropy.io import fits"
   ]
  },
  {
   "cell_type": "code",
   "execution_count": 2,
   "metadata": {},
   "outputs": [],
   "source": [
    "VHzQs = ascii.read(\"LIST_OF_VHzQs.dat\") "
   ]
  },
  {
   "cell_type": "code",
   "execution_count": 3,
   "metadata": {},
   "outputs": [],
   "source": [
    "unWISE_W1 = ascii.read(\"unWISE/unWISE_W1.dat\")\n",
    "unWISE_W2 = ascii.read(\"unWISE/unWISE_W2.dat\")"
   ]
  },
  {
   "cell_type": "code",
   "execution_count": 4,
   "metadata": {},
   "outputs": [],
   "source": [
    "#print( VHzQs['ra'] - unWISE_W1['ra'][0])"
   ]
  },
  {
   "cell_type": "code",
   "execution_count": 5,
   "metadata": {},
   "outputs": [],
   "source": [
    "dist = 2.75 #/ 3600.   ## matching distance in arcsecs"
   ]
  },
  {
   "cell_type": "code",
   "execution_count": 6,
   "metadata": {},
   "outputs": [],
   "source": [
    "matcher  =  VHzQs[np.where (  (VHzQs['ra'] - unWISE_W1['ra'][0]) < 1.0)]"
   ]
  },
  {
   "cell_type": "code",
   "execution_count": 137,
   "metadata": {},
   "outputs": [
    {
     "name": "stdout",
     "output_type": "stream",
     "text": [
      "counter, counter_match, counter_nomatch 457 302 155\n"
     ]
    }
   ],
   "source": [
    "f = open('myfile', 'w')\n",
    "\n",
    "counter         = 0\n",
    "counter_match   = 0\n",
    "counter_nomatch = 0\n",
    "\n",
    "n = min(len(VHzQs['ra']), len( unWISE_W1['ra']))\n",
    "\n",
    "\n",
    "for ii,jj in zip(VHzQs['ra'], VHzQs['dec']) :\n",
    "    counter = counter + 1\n",
    "\n",
    "    delta_ra_W1  = ii - unWISE_W1['ra']\n",
    "    delta_dec_W1 = jj - unWISE_W1['dec']\n",
    "    delta_w1     = np.sqrt(delta_ra_W1**2 + delta_dec_W1**2)\n",
    "\n",
    "    delta_ra_W2  = ii - unWISE_W2['ra']\n",
    "    delta_dec_W2 = jj - unWISE_W2['dec']\n",
    "    delta_w2     = np.sqrt(delta_ra_W2**2 + delta_dec_W2**2)\n",
    "\n",
    "    idx_w1       = np.argmin(delta_w1)\n",
    "    am_w1, bm_w1 = VHzQs[idx_w1], unWISE_W1[idx_w1]\n",
    "    idx_w2       = np.argmin(delta_w2)\n",
    "    am_w2, bm_w2 = VHzQs[idx_w2], unWISE_W1[idx_w2]\n",
    "\n",
    "    \n",
    "    #print(counter, ii, jj, idx, am['ra'], am['dec'], bm['ra'], bm['dec'], delta_w1.min()*3600.)\n",
    "    if (  ((delta_w1.min()*3600.) < dist) and ((delta_w2.min()*3600.) < dist) ):\n",
    "        counter_match = counter_match + 1 \n",
    "        print('A, {0:2f} {1:3f} {2:4f} {3:7f} {3:7f} {3:7f} {3:7f} {3:7f} {3:7f} {3:7f} '.format(              \n",
    "              counter, ii, jj, \n",
    "              bm_w1['ra'], bm_w1['dec'], bm_w2['ra'], bm_w2['dec'], \n",
    "              idx_w1, delta_w1.min()*3600., delta_w2.min()*3600.,), \n",
    "              file=f)\n",
    "        #print(counter, ii, jj, type(delta_w1), delta_w1.min()*3600. )\n",
    "#    elif (())\n",
    "    else:\n",
    "        print('B', counter, ii, jj, delta_w1.min()*3600., file=f)\n",
    "        counter_nomatch = counter_nomatch +1\n",
    "        #print(counter, ii, jj)\n",
    "\n",
    "print('counter, counter_match, counter_nomatch', counter, counter_match, counter_nomatch)\n",
    "\n",
    "f.close() "
   ]
  },
  {
   "cell_type": "code",
   "execution_count": null,
   "metadata": {},
   "outputs": [],
   "source": []
  },
  {
   "cell_type": "code",
   "execution_count": null,
   "metadata": {},
   "outputs": [],
   "source": []
  }
 ],
 "metadata": {
  "kernelspec": {
   "display_name": "Python 3",
   "language": "python",
   "name": "python3"
  },
  "language_info": {
   "codemirror_mode": {
    "name": "ipython",
    "version": 3
   },
   "file_extension": ".py",
   "mimetype": "text/x-python",
   "name": "python",
   "nbconvert_exporter": "python",
   "pygments_lexer": "ipython3",
   "version": "3.6.4"
  }
 },
 "nbformat": 4,
 "nbformat_minor": 2
}
