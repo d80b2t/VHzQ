{
 "cells": [
  {
   "cell_type": "markdown",
   "metadata": {},
   "source": [
    "This wee script combines the unWISE files for the VHzQs. \n",
    "Starting with 'just' the original 424 VHzQs and then added\n",
    "the \"Halloween\" 2018 Oct objects from arXiv:1810.11924-27v1. \n"
   ]
  },
  {
   "cell_type": "code",
   "execution_count": 1,
   "metadata": {},
   "outputs": [],
   "source": [
    "import numpy as np\n",
    "from astropy.io import ascii\n",
    "from astropy.io import fits"
   ]
  },
  {
   "cell_type": "code",
   "execution_count": 2,
   "metadata": {},
   "outputs": [],
   "source": [
    "fourhundered_w1_hdu = fits.open(\"VHzQ_w1-unwise_source_catalog.fits\")  \n",
    "fourhundered_w2_hdu = fits.open(\"VHzQ_w1-unwise_source_catalog.fits\")  \n",
    "halloween_w1_hdu    = fits.open(\"halloween_quasars-w1.fits\")\n",
    "halloween_w2_hdu    = fits.open(\"halloween_quasars-w2.fits\")"
   ]
  },
  {
   "cell_type": "code",
   "execution_count": 3,
   "metadata": {},
   "outputs": [
    {
     "data": {
      "text/plain": [
       "[<astropy.io.fits.hdu.image.PrimaryHDU object at 0x10c00ac18>, <astropy.io.fits.hdu.table.BinTableHDU object at 0x10c02c320>]"
      ]
     },
     "execution_count": 3,
     "metadata": {},
     "output_type": "execute_result"
    }
   ],
   "source": [
    "fourhundered_w1_hdu"
   ]
  },
  {
   "cell_type": "code",
   "execution_count": 4,
   "metadata": {},
   "outputs": [],
   "source": [
    "fourhundered_w1 = fourhundered_w1_hdu[1].data\n",
    "fourhundered_w1 = fourhundered_w1_hdu[1].data\n",
    "halloween_w1    = halloween_w1_hdu[1].data\n",
    "halloween_w2    = halloween_w2_hdu[1].data"
   ]
  },
  {
   "cell_type": "code",
   "execution_count": 5,
   "metadata": {},
   "outputs": [],
   "source": [
    "#fourhundered_w1.columns\n",
    "#halloween_w1.columns     ##   Doesn't have OBJID, NM"
   ]
  },
  {
   "cell_type": "code",
   "execution_count": 6,
   "metadata": {},
   "outputs": [
    {
     "name": "stdout",
     "output_type": "stream",
     "text": [
      "<class 'numpy.ndarray'> 322\n",
      "<class 'numpy.ndarray'> 33\n"
     ]
    }
   ],
   "source": [
    "print(type(fourhundered_w1['RA']), len(fourhundered_w1['RA']))\n",
    "print(type(halloween_w1['RA'])   , len(halloween_w1['RA']))"
   ]
  },
  {
   "cell_type": "code",
   "execution_count": 7,
   "metadata": {},
   "outputs": [],
   "source": [
    "## Combining the W1 arrays\n",
    "unWISE_W1_RA    = np.concatenate((fourhundered_w1['RA'], halloween_w1['RA']), axis=0)\n",
    "unWISE_W1_DEC   = np.concatenate((fourhundered_w1['DEC'], halloween_w1['DEC']), axis=0)\n",
    "unWISE_W1_FLUX  = np.concatenate((fourhundered_w1['FLUX'], halloween_w1['FLUX']), axis=0)\n",
    "unWISE_W1_DFLUX = np.concatenate((fourhundered_w1['DFlux'], halloween_w1['DFlux']), axis=0)\n"
   ]
  },
  {
   "cell_type": "code",
   "execution_count": 8,
   "metadata": {},
   "outputs": [
    {
     "name": "stdout",
     "output_type": "stream",
     "text": [
      "355\n"
     ]
    }
   ],
   "source": [
    "print(len(unWISE_W1_RA))"
   ]
  },
  {
   "cell_type": "code",
   "execution_count": 9,
   "metadata": {},
   "outputs": [],
   "source": [
    "def fluxtomag(nmgy):\n",
    "    return -2.5 * (np.log10(np.maximum(1e-3, nmgy)) - 9.)\n",
    "\n",
    "def dfluxtodmag(nmgy, dnmgy):\n",
    "    return np.abs(-2.5 * (np.log10(1. + dnmgy / nmgy)))\n"
   ]
  },
  {
   "cell_type": "code",
   "execution_count": 12,
   "metadata": {},
   "outputs": [],
   "source": [
    "unWISE_W1_mag    = fluxtomag(unWISE_W1_FLUX)\n",
    "unWISE_W1_magerr = dfluxtodmag(unWISE_W1_FLUX, unWISE_W1_DFLUX)\n",
    "unWISE_W1_SNR    = unWISE_W1_FLUX/unWISE_W1_DFLUX\n"
   ]
  },
  {
   "cell_type": "code",
   "execution_count": null,
   "metadata": {},
   "outputs": [],
   "source": [
    "for x, y, z in zip(unWISE_W1_mag, unWISE_W1_magerr,unWISE_W1_SNR ):\n",
    "    print(x, y, z)"
   ]
  },
  {
   "cell_type": "code",
   "execution_count": 13,
   "metadata": {},
   "outputs": [],
   "source": [
    "data_out = [unWISE_W1_RA, unWISE_W1_DEC, unWISE_W1_mag, unWISE_W1_magerr, unWISE_W1_SNR]"
   ]
  },
  {
   "cell_type": "code",
   "execution_count": 15,
   "metadata": {},
   "outputs": [
    {
     "data": {
      "text/plain": [
       "list"
      ]
     },
     "execution_count": 15,
     "metadata": {},
     "output_type": "execute_result"
    }
   ],
   "source": [
    "type(data_out)"
   ]
  },
  {
   "cell_type": "code",
   "execution_count": 21,
   "metadata": {},
   "outputs": [],
   "source": [
    "ascii.write(data_out, 'unWISE_W1_temp.dat', names=['ra', 'dec', ' w1mpro', 'w1sigmpro', 'w1snr'], overwrite=True)"
   ]
  },
  {
   "cell_type": "code",
   "execution_count": null,
   "metadata": {},
   "outputs": [],
   "source": []
  }
 ],
 "metadata": {
  "kernelspec": {
   "display_name": "Python 3",
   "language": "python",
   "name": "python3"
  },
  "language_info": {
   "codemirror_mode": {
    "name": "ipython",
    "version": 3
   },
   "file_extension": ".py",
   "mimetype": "text/x-python",
   "name": "python",
   "nbconvert_exporter": "python",
   "pygments_lexer": "ipython3",
   "version": "3.6.4"
  }
 },
 "nbformat": 4,
 "nbformat_minor": 2
}
