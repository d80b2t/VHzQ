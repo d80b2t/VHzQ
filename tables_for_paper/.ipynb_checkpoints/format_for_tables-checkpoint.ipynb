{
 "cells": [
  {
   "cell_type": "markdown",
   "metadata": {},
   "source": [
    "A simple little bit of code to convert the \n",
    "[W/V]SA_wWISE.dat files into nicely formatted .tex tables. \n",
    "v0.01    Thu May  9 12:57:29 BST 2019\n"
   ]
  },
  {
   "cell_type": "code",
   "execution_count": null,
   "metadata": {},
   "outputs": [],
   "source": [
    "import numpy as np\n",
    "import pandas as pd\n",
    "\n",
    "from astropy.io    import fits\n",
    "from astropy.io    import ascii\n",
    "from astropy.table import Table"
   ]
  },
  {
   "cell_type": "code",
   "execution_count": null,
   "metadata": {},
   "outputs": [],
   "source": [
    "##\n",
    "##  V H z Q    data\n",
    "##\n",
    "path     = '/cos_pc19a_npr/programs/quasars/highest_z/tables_for_paper/'\n",
    "filename = 'WSA_wWISE.dat'\n",
    "table    = path+filename\n",
    "\n",
    "VHzQ_list = ascii.read(table)"
   ]
  },
  {
   "cell_type": "code",
   "execution_count": null,
   "metadata": {},
   "outputs": [],
   "source": [
    "#VHzQ_list"
   ]
  },
  {
   "cell_type": "code",
   "execution_count": null,
   "metadata": {},
   "outputs": [],
   "source": [
    "type(VHzQ_list['ra'])\n"
   ]
  },
  {
   "cell_type": "code",
   "execution_count": null,
   "metadata": {},
   "outputs": [],
   "source": [
    "VHzQ_Top10 = VHzQ_list[0:10]"
   ]
  },
  {
   "cell_type": "code",
   "execution_count": null,
   "metadata": {},
   "outputs": [],
   "source": [
    "VHzQ_Top10"
   ]
  },
  {
   "cell_type": "code",
   "execution_count": null,
   "metadata": {},
   "outputs": [],
   "source": [
    "#ascii.write(VHzQ_list, format='latex')  "
   ]
  },
  {
   "cell_type": "code",
   "execution_count": null,
   "metadata": {},
   "outputs": [],
   "source": [
    "header = \"\"\"\\\\begin{table*}\n",
    "\\\\begin{tabular}{ccccc ccccc cccc}\n",
    "  \\hline \\hline\n",
    "  survey   & qsoName &  ra  & dec & redshift  &  \n",
    "  Z        & Y       &  J   &  H  &  K & \n",
    "  W1       & W2      & W3   & W4 \n",
    "  \\hline \\hline\n",
    "  \\\\\\\\\\n\"\"\""
   ]
  },
  {
   "cell_type": "code",
   "execution_count": null,
   "metadata": {},
   "outputs": [],
   "source": [
    "header"
   ]
  },
  {
   "cell_type": "code",
   "execution_count": null,
   "metadata": {},
   "outputs": [],
   "source": [
    "footer = \"\"\"  \\hline \\hline \\\\end{tabular}\n",
    "\\\\end{table*}\\n\"\"\"\n"
   ]
  },
  {
   "cell_type": "code",
   "execution_count": null,
   "metadata": {},
   "outputs": [],
   "source": [
    "with open(\"output_table.tex\", \"w\") as out:\n",
    "   out.write(header)\n",
    "   #for row in VHzQ_list:\n",
    "   for row in VHzQ_Top10:\n",
    "       out.write(\"{0} & {1} & {2:10.5f} & {3:10.5f} & {4:5.2f} &  ${5:5.2f}\\\\pm{6:4.2f}$ & ${7:5.2f}\\\\pm{8:4.2f}$ & ${9:5.2f}\\\\pm{10:4.2f}$ & ${11:5.2f}\\\\pm{12:4.2f}$    \\\\\\\\\\n\".format(*row))\n",
    "   out.write(footer)"
   ]
  },
  {
   "cell_type": "code",
   "execution_count": null,
   "metadata": {},
   "outputs": [],
   "source": []
  },
  {
   "cell_type": "code",
   "execution_count": null,
   "metadata": {},
   "outputs": [],
   "source": [
    "format(VHzQ_list[27])"
   ]
  },
  {
   "cell_type": "code",
   "execution_count": null,
   "metadata": {},
   "outputs": [],
   "source": []
  },
  {
   "cell_type": "code",
   "execution_count": null,
   "metadata": {},
   "outputs": [],
   "source": []
  }
 ],
 "metadata": {
  "kernelspec": {
   "display_name": "Python 3",
   "language": "python",
   "name": "python3"
  },
  "language_info": {
   "codemirror_mode": {
    "name": "ipython",
    "version": 3
   },
   "file_extension": ".py",
   "mimetype": "text/x-python",
   "name": "python",
   "nbconvert_exporter": "python",
   "pygments_lexer": "ipython3",
   "version": "3.6.4"
  }
 },
 "nbformat": 4,
 "nbformat_minor": 2
}
