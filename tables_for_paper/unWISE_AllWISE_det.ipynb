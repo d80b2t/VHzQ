{
 "cells": [
  {
   "cell_type": "code",
   "execution_count": null,
   "metadata": {},
   "outputs": [],
   "source": [
    "'''\n",
    "So, some more wee bits of code that is just investigating the detection rates for \n",
    "the unWISE and AllWISE VHzQ data, this time as a function of redshift. \n",
    "\n",
    "unWISE both    matched ::  304 \n",
    "unWISE just W1 matched ::  58\n",
    "unWISE just W2 matched ::  4\n",
    "unWISE matched in W1   ::  362\n",
    "unWISE matched in W2   ::  308\n",
    "unWISE neither matched ::  97\n",
    "\n",
    "Total matched   =  463 \n",
    "'''"
   ]
  },
  {
   "cell_type": "code",
   "execution_count": null,
   "metadata": {},
   "outputs": [],
   "source": [
    "import numpy as np\n",
    "\n",
    "from astropy.io    import fits\n",
    "from astropy.io    import ascii\n",
    "from astropy.table import Table"
   ]
  },
  {
   "cell_type": "code",
   "execution_count": null,
   "metadata": {},
   "outputs": [],
   "source": [
    "path     = '/cos_pc19a_npr/programs/quasars/highest_z/data/AllWISE/'\n",
    "filename = 'VHzQs463_UNvALL_WISE_temp.dat'\n",
    "VHzQs    = ascii.read(path+filename)"
   ]
  },
  {
   "cell_type": "code",
   "execution_count": null,
   "metadata": {},
   "outputs": [],
   "source": [
    "VHzQs"
   ]
  },
  {
   "cell_type": "code",
   "execution_count": null,
   "metadata": {},
   "outputs": [],
   "source": [
    "len(VHzQs)"
   ]
  },
  {
   "cell_type": "code",
   "execution_count": null,
   "metadata": {},
   "outputs": [],
   "source": [
    "unW1           = VHzQs[np.where( VHzQs['unW1mag']>-1)]\n",
    "unW1_just      = VHzQs[np.where((VHzQs['unW1mag']>-1) & (VHzQs['unW2mag']<-1))]\n",
    "unW1_not_AllW1 = VHzQs[np.where((VHzQs['unW1mag']>-1) & (VHzQs['w1mpro']<-1))]\n",
    "\n",
    "unW2           = VHzQs[np.where( VHzQs['unW2mag']>-1)]\n",
    "unW2_just      = VHzQs[np.where((VHzQs['unW2mag']>-1) & (VHzQs['unW1mag']<-1))]\n",
    "unW2_not_AllW2 = VHzQs[np.where((VHzQs['unW2mag']>-1) & (VHzQs['w2mpro']<-1))]\n",
    "\n"
   ]
  },
  {
   "cell_type": "code",
   "execution_count": null,
   "metadata": {},
   "outputs": [],
   "source": [
    "## AllW3 = VHzQs[np.where( VHzQs['w3mpro']>-1)]\n"
   ]
  },
  {
   "cell_type": "code",
   "execution_count": null,
   "metadata": {},
   "outputs": [],
   "source": [
    "print('\\hline \\hline')\n",
    "print('Detection band & No. of objects')\n",
    "print('\\hline')\n",
    "print('unWISE W1                 & ', len(unW1),             ' \\\\\\ ')\n",
    "print('unWISE W1     !unWISE W2  & ', len(unW1_just),        '  \\\\\\ ')\n",
    "print('unWISE W1 and !AllWISE W1 & ', len(unW1_not_AllW1),   '  \\\\\\ ')\n",
    "print()\n",
    "print('unWISE W2                 & ', len(unW2),             ' \\\\\\ ')\n",
    "print('unWISE W2     !unWISE W1  & ', len(unW2_just),        '   \\\\\\ ')\n",
    "print('unWISE W2 and !AllWISE W1 & ', len(unW2_not_AllW2),   '  \\\\\\ ')\n",
    "\n",
    "print('\\hline \\hline')"
   ]
  },
  {
   "cell_type": "code",
   "execution_count": null,
   "metadata": {},
   "outputs": [],
   "source": [
    "## By redshift\n",
    "redshift_array = np.array([5.00, 5.70, 6.00, 6.19, 6.50, 6.78, 7.00, 7.50])\n"
   ]
  },
  {
   "cell_type": "code",
   "execution_count": null,
   "metadata": {},
   "outputs": [],
   "source": [
    "## How many of the VHzQs are above a given redshift \n",
    "N_zgt5pnt00 = np.count_nonzero(VHzQs['redshift'] >= redshift_array[0]) \n",
    "N_zgt5pnt70 = np.count_nonzero(VHzQs['redshift'] >= redshift_array[1]) \n",
    "N_zgt6pnt00 = np.count_nonzero(VHzQs['redshift'] >= redshift_array[2]) \n",
    "N_zgt6pnt19 = np.count_nonzero(VHzQs['redshift'] >= redshift_array[3]) \n",
    "N_zgt6pnt50 = np.count_nonzero(VHzQs['redshift'] >= redshift_array[4]) \n",
    "N_zgt6pnt78 = np.count_nonzero(VHzQs['redshift'] >= redshift_array[5]) \n",
    "N_zgt7pnt00 = np.count_nonzero(VHzQs['redshift'] >= redshift_array[6]) \n",
    "N_zgt7pnt50 = np.count_nonzero(VHzQs['redshift'] >= redshift_array[7]) "
   ]
  },
  {
   "cell_type": "code",
   "execution_count": null,
   "metadata": {},
   "outputs": [],
   "source": [
    "## How many of the VHzQs, with unWISE W1 detections are above a given redshift \n",
    "N_zgt5pnt00_unW1 = np.count_nonzero((VHzQs['redshift'] >= redshift_array[0]) & (VHzQs['unW1mag']>-1))\n",
    "N_zgt5pnt70_unW1 = np.count_nonzero((VHzQs['redshift'] >= redshift_array[1]) & (VHzQs['unW1mag']>-1))\n",
    "N_zgt6pnt00_unW1 = np.count_nonzero((VHzQs['redshift'] >= redshift_array[2]) & (VHzQs['unW1mag']>-1))\n",
    "N_zgt6pnt19_unW1 = np.count_nonzero((VHzQs['redshift'] >= redshift_array[3]) & (VHzQs['unW1mag']>-1))\n",
    "N_zgt6pnt50_unW1 = np.count_nonzero((VHzQs['redshift'] >= redshift_array[4]) & (VHzQs['unW1mag']>-1))\n",
    "N_zgt6pnt78_unW1 = np.count_nonzero((VHzQs['redshift'] >= redshift_array[5]) & (VHzQs['unW1mag']>-1))\n",
    "N_zgt7pnt00_unW1 = np.count_nonzero((VHzQs['redshift'] >= redshift_array[6]) & (VHzQs['unW1mag']>-1))\n",
    "N_zgt7pnt50_unW1 = np.count_nonzero((VHzQs['redshift'] >= redshift_array[7]) & (VHzQs['unW1mag']>-1))\n"
   ]
  },
  {
   "cell_type": "code",
   "execution_count": null,
   "metadata": {},
   "outputs": [],
   "source": [
    "print('$z \\geq $ ')\n",
    "print(' 5.00   {:5d} ({:6.2f}\\%)'.format(N_zgt5pnt00_unW1,    ((N_zgt5pnt00_unW1/N_zgt5pnt00)*100)))\n",
    "print(' 5.70   {:5d} ({:6.2f}\\%)'.format(N_zgt5pnt70_unW1,    ((N_zgt5pnt70_unW1/N_zgt5pnt70)*100)))\n",
    "print(' 6.00   {:5d} ({:6.2f}\\%)'.format(N_zgt6pnt00_unW1,    ((N_zgt6pnt00_unW1/N_zgt6pnt00)*100)))\n",
    "print(' 6.19   {:5d} ({:6.2f}\\%)'.format(N_zgt6pnt19_unW1,    ((N_zgt6pnt19_unW1/N_zgt6pnt19)*100)))\n",
    "print(' 6.50   {:5d} ({:6.2f}\\%)'.format(N_zgt6pnt50_unW1,    ((N_zgt6pnt50_unW1/N_zgt6pnt50)*100)))\n",
    "print(' 6.78   {:5d} ({:6.2f}\\%)'.format(N_zgt6pnt78_unW1,    ((N_zgt6pnt78_unW1/N_zgt6pnt78)*100)))\n",
    "print(' 7.00   {:5d} ({:6.2f}\\%)'.format(N_zgt7pnt00_unW1,    ((N_zgt7pnt00_unW1/N_zgt7pnt00)*100)))\n",
    "print(' 7.50   {:5d} ({:6.2f}\\%)'.format(N_zgt7pnt50_unW1,    ((N_zgt7pnt50_unW1/N_zgt7pnt50)*100)))"
   ]
  },
  {
   "cell_type": "code",
   "execution_count": null,
   "metadata": {},
   "outputs": [],
   "source": [
    "## How many of the VHzQs, with unWISE W2 detections are above a given redshift \n",
    "N_zgt5pnt00_unW2 = np.count_nonzero((VHzQs['redshift'] >= redshift_array[0]) & (VHzQs['unW2mag']>-1))\n",
    "N_zgt5pnt70_unW2 = np.count_nonzero((VHzQs['redshift'] >= redshift_array[1]) & (VHzQs['unW2mag']>-1))\n",
    "N_zgt6pnt00_unW2 = np.count_nonzero((VHzQs['redshift'] >= redshift_array[2]) & (VHzQs['unW2mag']>-1))\n",
    "N_zgt6pnt19_unW2 = np.count_nonzero((VHzQs['redshift'] >= redshift_array[3]) & (VHzQs['unW2mag']>-1))\n",
    "N_zgt6pnt50_unW2 = np.count_nonzero((VHzQs['redshift'] >= redshift_array[4]) & (VHzQs['unW2mag']>-1))\n",
    "N_zgt6pnt78_unW2 = np.count_nonzero((VHzQs['redshift'] >= redshift_array[5]) & (VHzQs['unW2mag']>-1))\n",
    "N_zgt7pnt00_unW2 = np.count_nonzero((VHzQs['redshift'] >= redshift_array[6]) & (VHzQs['unW2mag']>-1))\n",
    "N_zgt7pnt50_unW2 = np.count_nonzero((VHzQs['redshift'] >= redshift_array[7]) & (VHzQs['unW2mag']>-1))\n"
   ]
  },
  {
   "cell_type": "code",
   "execution_count": null,
   "metadata": {},
   "outputs": [],
   "source": [
    "print('$z \\geq $ ')\n",
    "print(' 5.00   {:5d} ({:6.2f}\\%)'.format(N_zgt5pnt00_unW2,    ((N_zgt5pnt00_unW2/N_zgt5pnt00)*100)))\n",
    "print(' 5.70   {:5d} ({:6.2f}\\%)'.format(N_zgt5pnt70_unW2,    ((N_zgt5pnt70_unW2/N_zgt5pnt70)*100)))\n",
    "print(' 6.00   {:5d} ({:6.2f}\\%)'.format(N_zgt6pnt00_unW2,    ((N_zgt6pnt00_unW2/N_zgt6pnt00)*100)))\n",
    "print(' 6.19   {:5d} ({:6.2f}\\%)'.format(N_zgt6pnt19_unW2,    ((N_zgt6pnt19_unW2/N_zgt6pnt19)*100)))\n",
    "print(' 6.50   {:5d} ({:6.2f}\\%)'.format(N_zgt6pnt50_unW2,    ((N_zgt6pnt50_unW2/N_zgt6pnt50)*100)))\n",
    "print(' 6.78   {:5d} ({:6.2f}\\%)'.format(N_zgt6pnt78_unW2,    ((N_zgt6pnt78_unW2/N_zgt6pnt78)*100)))\n",
    "print(' 7.00   {:5d} ({:6.2f}\\%)'.format(N_zgt7pnt00_unW2,    ((N_zgt7pnt00_unW2/N_zgt7pnt00)*100)))\n",
    "print(' 7.50   {:5d} ({:6.2f}\\%)'.format(N_zgt7pnt50_unW2,    ((N_zgt7pnt50_unW2/N_zgt7pnt50)*100)))"
   ]
  },
  {
   "cell_type": "code",
   "execution_count": null,
   "metadata": {},
   "outputs": [],
   "source": []
  }
 ],
 "metadata": {
  "kernelspec": {
   "display_name": "Python 3",
   "language": "python",
   "name": "python3"
  },
  "language_info": {
   "codemirror_mode": {
    "name": "ipython",
    "version": 3
   },
   "file_extension": ".py",
   "mimetype": "text/x-python",
   "name": "python",
   "nbconvert_exporter": "python",
   "pygments_lexer": "ipython3",
   "version": "3.6.4"
  }
 },
 "nbformat": 4,
 "nbformat_minor": 2
}
