{
 "cells": [
  {
   "cell_type": "code",
   "execution_count": 1,
   "metadata": {},
   "outputs": [],
   "source": [
    "import pandas as pd"
   ]
  },
  {
   "cell_type": "code",
   "execution_count": 2,
   "metadata": {},
   "outputs": [],
   "source": [
    "path = \"/cos_pc19a_npr/programs/quasars/highest_z/data/WSA_VSA/\""
   ]
  },
  {
   "cell_type": "code",
   "execution_count": 6,
   "metadata": {},
   "outputs": [],
   "source": [
    "VSA_filein = 'BestVSA_magnitudes_byRA.csv'\n",
    "WSA_filein = 'BestWSA_magnitudes_byRA.csv'"
   ]
  },
  {
   "cell_type": "code",
   "execution_count": 7,
   "metadata": {},
   "outputs": [],
   "source": [
    "VSA = pd.read_csv(path+VSA_filein)\n",
    "WSA = pd.read_csv(path+WSA_filein)"
   ]
  },
  {
   "cell_type": "code",
   "execution_count": 8,
   "metadata": {},
   "outputs": [],
   "source": [
    "df_VSA = VSA.set_index(['qsoName','ra','dec','filterID'])['aperMag3AverAB'].unstack(fill_value=-999.99999)\n",
    "df_WSA = WSA.set_index(['qsoName','ra','dec','filterID'])['aperMag3AverAB'].unstack(fill_value=-999.99999)"
   ]
  },
  {
   "cell_type": "code",
   "execution_count": 9,
   "metadata": {},
   "outputs": [],
   "source": [
    "df_VSA.to_csv('BestVSA_filterMags_1lineperobject_temp.csv')\n",
    "df_WSA.to_csv('BestWSA_filterMags_1lineperobject_temp.csv')"
   ]
  },
  {
   "cell_type": "code",
   "execution_count": null,
   "metadata": {},
   "outputs": [],
   "source": []
  }
 ],
 "metadata": {
  "kernelspec": {
   "display_name": "Python 3",
   "language": "python",
   "name": "python3"
  },
  "language_info": {
   "codemirror_mode": {
    "name": "ipython",
    "version": 3
   },
   "file_extension": ".py",
   "mimetype": "text/x-python",
   "name": "python",
   "nbconvert_exporter": "python",
   "pygments_lexer": "ipython3",
   "version": "3.6.4"
  }
 },
 "nbformat": 4,
 "nbformat_minor": 2
}
